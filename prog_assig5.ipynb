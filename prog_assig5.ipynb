{
  "nbformat": 4,
  "nbformat_minor": 0,
  "metadata": {
    "colab": {
      "provenance": []
    },
    "kernelspec": {
      "name": "python3",
      "display_name": "Python 3"
    },
    "language_info": {
      "name": "python"
    }
  },
  "cells": [
    {
      "cell_type": "markdown",
      "source": [
        "1. Write a Python Program to Find LCM?"
      ],
      "metadata": {
        "id": "5riBVb1ZM-YC"
      }
    },
    {
      "cell_type": "code",
      "source": [
        "num1=int(input(\"enter the number 1: \"))\n",
        "num2=int(input(\"enter the number 2: \"))\n",
        "#lcm=1\n",
        "\n",
        "\n",
        "if num1>num2:\n",
        "  greater=num1\n",
        "else:\n",
        "  greater=num2\n",
        "\n",
        "for i in range(greater,1+num1*num2):\n",
        "  if i%num1==0 and i%num2==0:\n",
        "        lcm=i\n",
        "        break\n",
        "\n",
        "print(\"lcm:\",lcm)"
      ],
      "metadata": {
        "colab": {
          "base_uri": "https://localhost:8080/"
        },
        "id": "LOmHuBBRM9XU",
        "outputId": "9b7bf89c-fa3d-41cf-ae9d-2ab9a07652f8"
      },
      "execution_count": 13,
      "outputs": [
        {
          "output_type": "stream",
          "name": "stdout",
          "text": [
            "enter the number 1: 12\n",
            "enter the number 2: 14\n",
            "lcm: 84\n"
          ]
        }
      ]
    },
    {
      "cell_type": "markdown",
      "source": [
        "2. Write a Python Program to Find HCF?"
      ],
      "metadata": {
        "id": "o0R0uSgeTRfM"
      }
    },
    {
      "cell_type": "code",
      "execution_count": 14,
      "metadata": {
        "colab": {
          "base_uri": "https://localhost:8080/"
        },
        "id": "RyUBwqraM5cO",
        "outputId": "2830c819-c1fd-4719-8daf-38ac803a3dcc"
      },
      "outputs": [
        {
          "output_type": "stream",
          "name": "stdout",
          "text": [
            "enter the number 1: 36\n",
            "enter the number 2: 60\n",
            "Hcf of 36 and 60 is 12\n"
          ]
        }
      ],
      "source": [
        "num1=int(input(\"enter the number 1: \"))\n",
        "num2=int(input(\"enter the number 2: \"))\n",
        "hcf=1\n",
        "\n",
        "for i in range(1, min(num1, num2)):\n",
        "    if num1 % i == 0 and num2 % i == 0:\n",
        "        hcf = i\n",
        "print(\"Hcf of\", num1, \"and\", num2, \"is\", hcf)"
      ]
    },
    {
      "cell_type": "markdown",
      "source": [
        "3. Write a Python Program to Convert Decimal to Binary, Octal and Hexadecimal?"
      ],
      "metadata": {
        "id": "jiJS2uxwT2uZ"
      }
    },
    {
      "cell_type": "code",
      "source": [
        "dec = int(input(\"Enter an integer: \"))\n",
        "print(\"The decimal value of\",dec,\"is.\")\n",
        "print(bin(dec),\"in binary.\")\n",
        "print(oct(dec),\"in octal.\")\n",
        "print(hex(dec),\"in hexadecimal.\")"
      ],
      "metadata": {
        "colab": {
          "base_uri": "https://localhost:8080/"
        },
        "id": "SKzHusxsUhJx",
        "outputId": "8dbabaa9-b05a-4e7c-de19-0c9a08fa0977"
      },
      "execution_count": 15,
      "outputs": [
        {
          "output_type": "stream",
          "name": "stdout",
          "text": [
            "Enter an integer: 12\n",
            "The decimal value of 12 is.\n",
            "0b1100 in binary.\n",
            "0o14 in octal.\n",
            "0xc in hexadecimal.\n"
          ]
        }
      ]
    },
    {
      "cell_type": "markdown",
      "source": [
        "4. Write a Python Program To Find ASCII value of a character?"
      ],
      "metadata": {
        "id": "fwlWpTSwUrR6"
      }
    },
    {
      "cell_type": "code",
      "source": [
        "c = input(\"Enter the charcter:\")\n",
        "print(\"The ASCII value of '\" + c + \"' is\", ord(c))"
      ],
      "metadata": {
        "colab": {
          "base_uri": "https://localhost:8080/"
        },
        "id": "kpZxPnqnUsfN",
        "outputId": "65834b8b-6f83-4547-b338-ac3d429e4a51"
      },
      "execution_count": 16,
      "outputs": [
        {
          "output_type": "stream",
          "name": "stdout",
          "text": [
            "Enter the charcter:p\n",
            "The ASCII value of 'p' is 112\n"
          ]
        }
      ]
    },
    {
      "cell_type": "markdown",
      "source": [
        "5. Write a Python Program to Make a Simple Calculator with 4 basic mathematical operations?"
      ],
      "metadata": {
        "id": "VrCSsTstVTr_"
      }
    },
    {
      "cell_type": "code",
      "source": [
        "num1=int(input(\"enter 1 number:\"))\n",
        "num2=int(input(\"enter 2 number:\"))\n",
        "operation=int(input(\"\"\" press 1 for add\n",
        "press 2 for sub\n",
        "press 3 for mul\n",
        "press 4 for div\"\"\"))\n",
        "\n",
        "if operation==1:\n",
        "     n=num1+num2\n",
        "elif operation==2:\n",
        "     n=num1-num2\n",
        "elif operation==3:\n",
        "     n=num1*num2\n",
        "elif operation==4:\n",
        "     n=num1/num2  \n",
        "else:\n",
        "     print(\"invalid operation()\")\n",
        "print(\"ans is\",n)              "
      ],
      "metadata": {
        "colab": {
          "base_uri": "https://localhost:8080/"
        },
        "id": "XTmd8TJgVV9c",
        "outputId": "1983988c-57ad-4ee7-e5a6-a9bea96774e6"
      },
      "execution_count": 8,
      "outputs": [
        {
          "output_type": "stream",
          "name": "stdout",
          "text": [
            "enter 1 number:4\n",
            "enter 2 number:5\n",
            " press 1 for add\n",
            "press 2 for sub\n",
            "press 3 for mul\n",
            "press 4 for div3\n",
            "ans is 20\n"
          ]
        }
      ]
    }
  ]
}