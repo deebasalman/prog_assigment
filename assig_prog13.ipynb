{
  "nbformat": 4,
  "nbformat_minor": 0,
  "metadata": {
    "colab": {
      "provenance": []
    },
    "kernelspec": {
      "name": "python3",
      "display_name": "Python 3"
    },
    "language_info": {
      "name": "python"
    }
  },
  "cells": [
    {
      "cell_type": "markdown",
      "source": [
        "Write a program that calculates and prints the value according to the given formula:\n",
        "Q = Square root of [(2 * C * D)/H]\n",
        "Following are the fixed values of C and H:\n",
        "C is 50. H is 30.\n",
        "D is the variable whose values should be input to your program in a comma-separated\n",
        "sequence."
      ],
      "metadata": {
        "id": "-4NcSSrz5KJ9"
      }
    },
    {
      "cell_type": "code",
      "source": [
        "import math\n",
        "\n",
        "values = input(\"Provide D in with comma separated: \")\n",
        "values = values.split(',')\n",
        "\n",
        "final = []\n",
        "\n",
        "for D in values:\n",
        "    A = round(math.sqrt(2 * 50 * int(D) / 30))\n",
        "    final.append(str(A))\n",
        "    \n",
        "print(','.join(final))"
      ],
      "metadata": {
        "colab": {
          "base_uri": "https://localhost:8080/"
        },
        "id": "xlBvDuIr5Jsq",
        "outputId": "05cf49b0-33e2-4c26-f379-d1f8ce3e41b6"
      },
      "execution_count": 1,
      "outputs": [
        {
          "output_type": "stream",
          "name": "stdout",
          "text": [
            "Provide D in with comma separated: 234,456,123\n",
            "28,39,20\n"
          ]
        }
      ]
    },
    {
      "cell_type": "markdown",
      "source": [
        "Write a program which takes 2 digits, X,Y as input and generates a 2-dimensional array. The\n",
        "element value in the i-th row and j-th column of the array should be i*j.\n",
        "Note: i=0,1.., X-1; j=0,1,¡Y-1."
      ],
      "metadata": {
        "id": "5jRR-TM8-jS3"
      }
    },
    {
      "cell_type": "code",
      "source": [
        "def ABC(n,m):\n",
        "    \n",
        "    A=[]             \n",
        "    print(\"Enter the element :\")\n",
        "    for i in range(n):\n",
        "        row =[]\n",
        "        for j in range(m):\n",
        "            row.append(i*j)\n",
        "        A.append(row)\n",
        "    return(A)\n",
        "\n",
        "x = int(input(\"Enter x : \"))\n",
        "y = int(input(\"enter y : \"))\n",
        "ABC(x,y)"
      ],
      "metadata": {
        "colab": {
          "base_uri": "https://localhost:8080/"
        },
        "id": "lNcCm5sx-osp",
        "outputId": "da21d195-ab05-456a-de71-53f30bab2a13"
      },
      "execution_count": 8,
      "outputs": [
        {
          "output_type": "stream",
          "name": "stdout",
          "text": [
            "Enter x : 2\n",
            "enter y : 3\n",
            "Enter the element :\n"
          ]
        },
        {
          "output_type": "execute_result",
          "data": {
            "text/plain": [
              "[[0, 0, 0], [0, 1, 2]]"
            ]
          },
          "metadata": {},
          "execution_count": 8
        }
      ]
    },
    {
      "cell_type": "markdown",
      "source": [
        "Write a program that accepts a comma separated sequence of words as input and prints the\n",
        "words in a comma-separated sequence after sorting them alphabetically."
      ],
      "metadata": {
        "id": "Utt1znll_cTN"
      }
    },
    {
      "cell_type": "code",
      "source": [
        "words=input(\"enter the string:\")\n",
        "text=words.split(\",\")\n",
        "\n",
        "text.sort()\n",
        "print(','.join(text))"
      ],
      "metadata": {
        "colab": {
          "base_uri": "https://localhost:8080/"
        },
        "id": "z8c5s2O7_e0c",
        "outputId": "f6b46db5-94db-4089-a86d-8c9af55fff95"
      },
      "execution_count": 11,
      "outputs": [
        {
          "output_type": "stream",
          "name": "stdout",
          "text": [
            "enter the string:without,hello,bag,word\n",
            "bag,hello,without,word\n"
          ]
        }
      ]
    },
    {
      "cell_type": "markdown",
      "source": [
        "Write a program that accepts a sequence of whitespace separated words as input and prints\n",
        "the words after removing all duplicate words and sorting them alphanumerically."
      ],
      "metadata": {
        "id": "eQosz4TJDTHE"
      }
    },
    {
      "cell_type": "code",
      "source": [
        "words=input(\"enter the string:\")\n",
        "text=words.split()\n",
        "\n",
        "\n",
        "print(' '.join(sorted(list(set(text)))))"
      ],
      "metadata": {
        "colab": {
          "base_uri": "https://localhost:8080/"
        },
        "id": "yU5sjaw9DUjO",
        "outputId": "14aa86db-9145-49cf-cd68-04bdb83b7090"
      },
      "execution_count": 20,
      "outputs": [
        {
          "output_type": "stream",
          "name": "stdout",
          "text": [
            "enter the string:hello world and practice makes perfect and hello world again\n",
            "again and hello makes perfect practice world\n"
          ]
        }
      ]
    },
    {
      "cell_type": "markdown",
      "source": [
        "Write a program that accepts a sentence and calculate the number of letters and digits."
      ],
      "metadata": {
        "id": "vAQdS1QCGwoM"
      }
    },
    {
      "cell_type": "code",
      "source": [
        "a = input(\"Input a string : \")\n",
        "digits=letters=0\n",
        "for i in a:\n",
        "    if i.isdigit():\n",
        "        digits += 1\n",
        "    elif i.isalpha():\n",
        "        letters += 1\n",
        "    else:\n",
        "        pass\n",
        "print(\"Letters\", letters)\n",
        "print(\"Digits\", digits)"
      ],
      "metadata": {
        "colab": {
          "base_uri": "https://localhost:8080/"
        },
        "id": "Z2WC7rVnG15O",
        "outputId": "21bc88cb-a7f1-48b4-c2b1-6d679baf3b92"
      },
      "execution_count": 26,
      "outputs": [
        {
          "output_type": "stream",
          "name": "stdout",
          "text": [
            "Input a string : hello world! 123\n",
            "Letters 10\n",
            "Digits 3\n"
          ]
        }
      ]
    },
    {
      "cell_type": "markdown",
      "source": [
        "Question 6:\n",
        "A website requires the users to input username and password to register. Write a program to\n",
        "check the validity of password input by users.\n",
        "Following are the criteria for checking the password:\n",
        "1. At least 1 letter between [a-z]\n",
        "2. At least 1 number between [0-9]\n",
        "1. At least 1 letter between [A-Z]\n",
        "3. At least 1 character from [$#@]\n",
        "4. Minimum length of transaction password: 6\n",
        "5. Maximum length of transaction password: 12\n",
        "Your program should accept a sequence of comma separated passwords and will check them\n",
        "according to the above criteria. Passwords that match the criteria are to be printed, each\n",
        "separated by a comma."
      ],
      "metadata": {
        "id": "tpckZjGZJXmt"
      }
    },
    {
      "cell_type": "code",
      "source": [
        "\n",
        "import re\n",
        "password= input(\"Enter your password : \")\n",
        "x = True\n",
        "while x:  \n",
        "    if (len(password) < 6 or len(password) > 12):\n",
        "        break\n",
        "    elif not re.search(\"[a-z]\",password):\n",
        "        break\n",
        "    elif not re.search(\"[0-9]\",password):\n",
        "        break\n",
        "    elif not re.search(\"[A-Z]\",password):\n",
        "        break\n",
        "    elif not re.search(\"[$#@]\",password):\n",
        "        break\n",
        "    elif re.search(\"\\s\",password):\n",
        "        break\n",
        "    else:\n",
        "        print(\"Valid Password\")\n",
        "        x=False\n",
        "        break\n",
        "\n",
        "if x:\n",
        "    print(\"Not a Valid Password\")"
      ],
      "metadata": {
        "colab": {
          "base_uri": "https://localhost:8080/"
        },
        "id": "7LwQ4r4jJZ1U",
        "outputId": "7f69d841-531f-4ba6-cf5a-ba48d7348e26"
      },
      "execution_count": 31,
      "outputs": [
        {
          "output_type": "stream",
          "name": "stdout",
          "text": [
            "Enter your password : Abcd123@#\n",
            "Valid Password\n"
          ]
        }
      ]
    }
  ]
}