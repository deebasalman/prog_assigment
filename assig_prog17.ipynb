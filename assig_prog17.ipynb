{
  "nbformat": 4,
  "nbformat_minor": 0,
  "metadata": {
    "colab": {
      "provenance": []
    },
    "kernelspec": {
      "name": "python3",
      "display_name": "Python 3"
    },
    "language_info": {
      "name": "python"
    }
  },
  "cells": [
    {
      "cell_type": "markdown",
      "source": [
        "Question1. Create a function that takes three arguments a, b, c and returns the sum of the\n",
        "numbers that are evenly divided by c from the range a, b inclusive."
      ],
      "metadata": {
        "id": "5GLnYvaqc-Tp"
      }
    },
    {
      "cell_type": "code",
      "execution_count": 1,
      "metadata": {
        "colab": {
          "base_uri": "https://localhost:8080/"
        },
        "id": "sjNIJm4tc9cV",
        "outputId": "ca0cfa15-647f-48e6-d374-f52a88fe58b6"
      },
      "outputs": [
        {
          "output_type": "stream",
          "name": "stdout",
          "text": [
            "Enter a : 1\n",
            "Enter b : 10\n",
            "Enter c : 3\n",
            "18\n"
          ]
        }
      ],
      "source": [
        "def abc(a, b, c):     \n",
        "    sum = 0\n",
        "    for i in range(a, b + 1): \n",
        "        if (i % c == 0):\n",
        "            sum += i \n",
        "    return sum\n",
        "a = int(input('Enter a : '))\n",
        "b = int(input('Enter b : '))\n",
        "c = int(input('Enter c : '))\n",
        "print(abc(a, b, c))"
      ]
    },
    {
      "cell_type": "markdown",
      "source": [
        "Question2. Create a function that returns True if a given inequality expression is correct and\n",
        "False otherwise."
      ],
      "metadata": {
        "id": "QgkUeBSPdaz6"
      }
    },
    {
      "cell_type": "code",
      "source": [
        "def correct_signs ( txt ) : \n",
        "    return eval ( txt )\n",
        "\n",
        "exp=input(\"enter the expression:\")\n",
        "correct_signs(exp)"
      ],
      "metadata": {
        "colab": {
          "base_uri": "https://localhost:8080/"
        },
        "id": "Vrc-G4t2gn8f",
        "outputId": "b3ca2278-fd6a-4783-84a6-e17960951ee8"
      },
      "execution_count": 5,
      "outputs": [
        {
          "name": "stdout",
          "output_type": "stream",
          "text": [
            "enter the expression:3<7<8\n"
          ]
        },
        {
          "output_type": "execute_result",
          "data": {
            "text/plain": [
              "True"
            ]
          },
          "metadata": {},
          "execution_count": 5
        }
      ]
    },
    {
      "cell_type": "markdown",
      "source": [
        "Question3. Create a function that replaces all the vowels in a string with a specified character."
      ],
      "metadata": {
        "id": "kLaBXrLeeW_X"
      }
    },
    {
      "cell_type": "code",
      "source": [
        "def replace_vowels(str, s):\n",
        "    vowels = 'AEIOUaeiou'\n",
        "    for ele in vowels:  \n",
        "        str = str.replace(ele, s)  \n",
        "    return str\n",
        "  \n",
        "input_str = input(\"enter a string : \")\n",
        "s = input(\"enter a vowel replacing string : \")\n",
        "\n",
        "print(\"Afer replacing vowels with the specified character:\",replace_vowels(input_str, s))\n",
        "     "
      ],
      "metadata": {
        "colab": {
          "base_uri": "https://localhost:8080/"
        },
        "id": "vVSN84fGePHa",
        "outputId": "8c7a2510-9a84-46ef-d232-daebf22f0c35"
      },
      "execution_count": 2,
      "outputs": [
        {
          "output_type": "stream",
          "name": "stdout",
          "text": [
            "enter a string : minnie mouse\n",
            "enter a vowel replacing string : #\n",
            "Afer replacing vowels with the specified character: m#nn## m##s#\n"
          ]
        }
      ]
    },
    {
      "cell_type": "markdown",
      "source": [
        "Question4. Write a function that calculates the factorial of a number recursively."
      ],
      "metadata": {
        "id": "ckdikCSPe8CJ"
      }
    },
    {
      "cell_type": "code",
      "source": [
        "\n",
        "def factorial(n):     \n",
        "    if n == 0:\n",
        "        return 1    \n",
        "    return n * factorial(n-1)\n",
        "\n",
        "num = int(input('enter a number :'))\n",
        "print(\"Factorial of\", num, \"is\", factorial(num))"
      ],
      "metadata": {
        "colab": {
          "base_uri": "https://localhost:8080/"
        },
        "id": "qnwgwJ7NfBTz",
        "outputId": "e8669571-960e-49de-a65b-7d8eef73d07c"
      },
      "execution_count": 3,
      "outputs": [
        {
          "output_type": "stream",
          "name": "stdout",
          "text": [
            "enter a number :5\n",
            "Factorial of 5 is 120\n"
          ]
        }
      ]
    },
    {
      "cell_type": "markdown",
      "source": [
        "Question 5\n",
        "Hamming distance is the number of characters that differ between two strings.\n",
        "To illustrate:\n",
        "String1: \"abcbba\"\n",
        "String2: \"abcbda\"\n",
        "Hamming Distance: 1 - \"b\" vs. \"d\" is the only difference.\n",
        "Create a function that computes the hamming distance between two strings."
      ],
      "metadata": {
        "id": "smRsA2TBfrCg"
      }
    },
    {
      "cell_type": "code",
      "source": [
        "def hamming_distance(str1, str2):\n",
        "    i = 0\n",
        "    count = 0\n",
        " \n",
        "    while(i < len(str1)):\n",
        "        if(str1[i] != str2[i]):\n",
        "            count += 1\n",
        "        i += 1\n",
        "    return count\n",
        " \n",
        "\n",
        "str1 = \"abcde\"\n",
        "str2 = \"bcdef\"\n",
        " \n",
        "print(hamming_distance(str1, str2))"
      ],
      "metadata": {
        "colab": {
          "base_uri": "https://localhost:8080/"
        },
        "id": "3JGMKovFf7-Z",
        "outputId": "bc51af6f-4f1f-4230-ba8a-8fb5ce2011e4"
      },
      "execution_count": 4,
      "outputs": [
        {
          "output_type": "stream",
          "name": "stdout",
          "text": [
            "5\n"
          ]
        }
      ]
    }
  ]
}