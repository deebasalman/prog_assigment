{
  "nbformat": 4,
  "nbformat_minor": 0,
  "metadata": {
    "colab": {
      "provenance": []
    },
    "kernelspec": {
      "name": "python3",
      "display_name": "Python 3"
    },
    "language_info": {
      "name": "python"
    }
  },
  "cells": [
    {
      "cell_type": "markdown",
      "source": [
        "1. Write a Python program to Extract Unique values dictionary values?"
      ],
      "metadata": {
        "id": "ZlMtGrjB1azt"
      }
    },
    {
      "cell_type": "code",
      "execution_count": 1,
      "metadata": {
        "colab": {
          "base_uri": "https://localhost:8080/"
        },
        "id": "--TwJSo51VUz",
        "outputId": "87b00754-3b32-4890-a0dd-8cbb457a28af"
      },
      "outputs": [
        {
          "output_type": "stream",
          "name": "stdout",
          "text": [
            "unique values are: {64, 1, 66, 3, 0, 4, 7, 8, 45, 47, 17, 81, 21}\n"
          ]
        }
      ],
      "source": [
        "dict1 = {'a' : [3, 64, 17, 66],\n",
        "             'b' : [1, 21, 47, 45],\n",
        "             'c' : [0, 17, 7, 81],\n",
        "             'd' : [3, 3, 4,8]}\n",
        "\n",
        "un_val = set([ele for val in dict1.values() for ele in val])\n",
        "print(\"unique values are: {}\".format(un_val))"
      ]
    },
    {
      "cell_type": "markdown",
      "source": [
        "2. Write a Python program to find the sum of all items in a dictionary?"
      ],
      "metadata": {
        "id": "zRy7449E2DbH"
      }
    },
    {
      "cell_type": "code",
      "source": [
        "dict2 = {'a' : 12,\n",
        "         'b' : 41,\n",
        "         'c' : 52,\n",
        "         'd' : 6}\n",
        "sum = 0\n",
        "for i in dict2.values():\n",
        "    sum +=sum + i\n",
        "print(\"Sun of all items: {}\".format(sum))"
      ],
      "metadata": {
        "colab": {
          "base_uri": "https://localhost:8080/"
        },
        "id": "9_JIt0nz2Eed",
        "outputId": "2cad81bd-7caf-4541-aa8b-b6c8904ef022"
      },
      "execution_count": 2,
      "outputs": [
        {
          "output_type": "stream",
          "name": "stdout",
          "text": [
            "Sun of all items: 370\n"
          ]
        }
      ]
    },
    {
      "cell_type": "markdown",
      "source": [
        "3. Write a Python program to Merging two Dictionaries?"
      ],
      "metadata": {
        "id": "-JpcDjF-2txD"
      }
    },
    {
      "cell_type": "code",
      "source": [
        "one = { 'x': 2, 'y': 3}\n",
        "two = { 'y': 5, 'z': 6}\n",
        "both = one.copy()\n",
        "both.update(two)\n",
        "print(\"dict a : \", one)\n",
        "print(\"Dict b : \", two)\n",
        "print('updated dictionary : {}'.format(both))"
      ],
      "metadata": {
        "colab": {
          "base_uri": "https://localhost:8080/"
        },
        "id": "hQVI4xVG2u4j",
        "outputId": "5dadfa9f-af3d-4e8c-d327-dfea5c8f9180"
      },
      "execution_count": 3,
      "outputs": [
        {
          "output_type": "stream",
          "name": "stdout",
          "text": [
            "dict a :  {'x': 2, 'y': 3}\n",
            "Dict b :  {'y': 5, 'z': 6}\n",
            "updated dictionary : {'x': 2, 'y': 5, 'z': 6}\n"
          ]
        }
      ]
    },
    {
      "cell_type": "markdown",
      "source": [
        "4. Write a Python program to convert key-values list to flat dictionary?"
      ],
      "metadata": {
        "id": "w4Qafr8J3BTp"
      }
    },
    {
      "cell_type": "code",
      "source": [
        "\n",
        "test_dict = {'month' : [1, 2, 3],\n",
        "             'name' : ['Jan', 'Feb', 'March']}\n",
        "  \n",
        "print(\"The original dictionary is : \" + str(test_dict))\n",
        "  \n",
        "\n",
        "res = dict(zip(test_dict['month'], test_dict['name']))\n",
        "  \n",
        "print(\"Flattened dictionary : \" + str(res))"
      ],
      "metadata": {
        "colab": {
          "base_uri": "https://localhost:8080/"
        },
        "id": "HjueatRK3I7L",
        "outputId": "b6d2c005-7215-46e8-868d-a5e19a5f2321"
      },
      "execution_count": 4,
      "outputs": [
        {
          "output_type": "stream",
          "name": "stdout",
          "text": [
            "The original dictionary is : {'month': [1, 2, 3], 'name': ['Jan', 'Feb', 'March']}\n",
            "Flattened dictionary : {1: 'Jan', 2: 'Feb', 3: 'March'}\n"
          ]
        }
      ]
    },
    {
      "cell_type": "markdown",
      "source": [
        "5. Write a Python program to insertion at the beginning in OrderedDict?"
      ],
      "metadata": {
        "id": "gslDwGOK3wlv"
      }
    },
    {
      "cell_type": "code",
      "source": [
        "\n",
        "from collections import OrderedDict\n",
        "\n",
        "iniordered_dict = OrderedDict([('Feb', '2'), ('Mar', '3')])\n",
        "  \n",
        " \n",
        "iniordered_dict.update({'Jan':'1'})\n",
        "iniordered_dict.move_to_end('Jan', last = False)\n",
        "  \n",
        "\n",
        "print (\"Ordered Dictionary  : \"+str(iniordered_dict))"
      ],
      "metadata": {
        "colab": {
          "base_uri": "https://localhost:8080/"
        },
        "id": "XfxpaqQr4nOR",
        "outputId": "b4a5a39d-fc1c-43d2-a007-92fcb7e888d2"
      },
      "execution_count": 6,
      "outputs": [
        {
          "output_type": "stream",
          "name": "stdout",
          "text": [
            "Ordered Dictionary  : OrderedDict([('Jan', '1'), ('Feb', '2'), ('Mar', '3')])\n"
          ]
        }
      ]
    },
    {
      "cell_type": "markdown",
      "source": [
        "6. Write a Python program to check order of character in string using OrderedDict()?"
      ],
      "metadata": {
        "id": "DYyViPE74-k6"
      }
    },
    {
      "cell_type": "code",
      "source": [
        "\n",
        "from collections import OrderedDict \n",
        "  \n",
        "def checkOrderofString(str, pattern): \n",
        "      \n",
        "    \n",
        "    dict = OrderedDict.fromkeys(str) \n",
        "    print(dict)   \n",
        "    ptrlen = 0\n",
        "    for key,value in dict.items(): \n",
        "        \n",
        "        if (key == pattern[ptrlen]): \n",
        "            ptrlen = ptrlen + 1\n",
        "          \n",
        "      \n",
        "        if (ptrlen == (len(pattern))):            \n",
        "            return 'true'\n",
        "  \n",
        "\n",
        "    return 'false'\n",
        "  \n",
        "\n",
        "string = input(\"enter string : \")\n",
        "pattern = input(\"Enter Pattern : \")\n",
        "if checkOrderofString(string,pattern):\n",
        "    print(\"Pattern matched\")\n",
        "else:\n",
        "    print(\"Pattern not matched\")"
      ],
      "metadata": {
        "colab": {
          "base_uri": "https://localhost:8080/"
        },
        "id": "rGRGEMJm37r5",
        "outputId": "fae7e401-3f1f-4faf-ac15-479d8bb183a7"
      },
      "execution_count": 5,
      "outputs": [
        {
          "output_type": "stream",
          "name": "stdout",
          "text": [
            "enter string : deeba\n",
            "Enter Pattern : ba\n",
            "OrderedDict([('d', None), ('e', None), ('b', None), ('a', None)])\n",
            "Pattern matched\n"
          ]
        }
      ]
    },
    {
      "cell_type": "markdown",
      "source": [
        "7. Write a Python program to sort Python Dictionaries by Key or Value?"
      ],
      "metadata": {
        "id": "Z616WKmK5DhD"
      }
    },
    {
      "cell_type": "code",
      "source": [
        "dict= {4:5 ,7:8 ,4:3 ,6:9 ,9:5 ,4:2 }\n",
        "\n",
        "print(sorted(dict.keys()))\n",
        "print(sorted(dict.values()))\n",
        "print(sorted(dict.items()))"
      ],
      "metadata": {
        "colab": {
          "base_uri": "https://localhost:8080/"
        },
        "id": "0E8AvkcL5OBy",
        "outputId": "8887ebd2-fdd6-4332-a36c-02f403f73ce4"
      },
      "execution_count": 7,
      "outputs": [
        {
          "output_type": "stream",
          "name": "stdout",
          "text": [
            "[4, 6, 7, 9]\n",
            "[2, 5, 8, 9]\n",
            "[(4, 2), (6, 9), (7, 8), (9, 5)]\n"
          ]
        }
      ]
    }
  ]
}