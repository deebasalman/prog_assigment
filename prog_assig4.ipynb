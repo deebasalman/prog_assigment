{
  "nbformat": 4,
  "nbformat_minor": 0,
  "metadata": {
    "colab": {
      "provenance": []
    },
    "kernelspec": {
      "name": "python3",
      "display_name": "Python 3"
    },
    "language_info": {
      "name": "python"
    }
  },
  "cells": [
    {
      "cell_type": "markdown",
      "source": [
        "1. Write a Python Program to Find the Factorial of a Number?"
      ],
      "metadata": {
        "id": "1DtGduBd6fdU"
      }
    },
    {
      "cell_type": "code",
      "execution_count": 3,
      "metadata": {
        "colab": {
          "base_uri": "https://localhost:8080/"
        },
        "id": "spq5Dprx6dCb",
        "outputId": "dca01c40-532e-45ce-8ca7-09a7b8004bbd"
      },
      "outputs": [
        {
          "output_type": "stream",
          "name": "stdout",
          "text": [
            "Enter the number: 5\n",
            "120\n"
          ]
        }
      ],
      "source": [
        "num=int(input(\"Enter the number: \"))\n",
        "for i in range(1,num):\n",
        "     num=num*i\n",
        "print(num)     "
      ]
    },
    {
      "cell_type": "markdown",
      "source": [
        "2. Write a Python Program to Display the multiplication Table?"
      ],
      "metadata": {
        "id": "1vA4XUHx7O0A"
      }
    },
    {
      "cell_type": "code",
      "source": [
        "num=int(input(\"Enter the number:\"))\n",
        "\n",
        "for i in range (1,11):\n",
        "      print(num,'*',i,'=',num*i)"
      ],
      "metadata": {
        "colab": {
          "base_uri": "https://localhost:8080/"
        },
        "id": "6Vtv7NcF7P-y",
        "outputId": "d698e339-6811-4ffe-a2df-572db76b0c75"
      },
      "execution_count": 17,
      "outputs": [
        {
          "output_type": "stream",
          "name": "stdout",
          "text": [
            "Enter the number:8\n",
            "8 * 1 = 8\n",
            "8 * 2 = 16\n",
            "8 * 3 = 24\n",
            "8 * 4 = 32\n",
            "8 * 5 = 40\n",
            "8 * 6 = 48\n",
            "8 * 7 = 56\n",
            "8 * 8 = 64\n",
            "8 * 9 = 72\n",
            "8 * 10 = 80\n"
          ]
        }
      ]
    },
    {
      "cell_type": "markdown",
      "source": [
        "3. Write a Python Program to Print the Fibonacci sequence?"
      ],
      "metadata": {
        "id": "RIVQvrPb-RZe"
      }
    },
    {
      "cell_type": "code",
      "source": [
        "num=int(input(\"Enter the number:\"))\n",
        "count=0\n",
        "n1,n2=0,1\n",
        "while(count<num):\n",
        "  print(n1)\n",
        "  a=n1+n2\n",
        "  n1=n2\n",
        "  n2=a\n",
        "  count+=1"
      ],
      "metadata": {
        "colab": {
          "base_uri": "https://localhost:8080/"
        },
        "id": "rQowTc87-TQc",
        "outputId": "e61e3680-e1fe-471c-fd6e-89d8cfbd5574"
      },
      "execution_count": 22,
      "outputs": [
        {
          "output_type": "stream",
          "name": "stdout",
          "text": [
            "Enter the number:7\n",
            "0\n",
            "1\n",
            "1\n",
            "2\n",
            "3\n",
            "5\n",
            "8\n"
          ]
        }
      ]
    },
    {
      "cell_type": "markdown",
      "source": [
        "4. Write a Python Program to Check Armstrong Number?"
      ],
      "metadata": {
        "id": "uIVbZ1z4A4ho"
      }
    },
    {
      "cell_type": "code",
      "source": [
        "num=int(input (\"Enter the number:\"))\n",
        "sum=0\n",
        "temp=num\n",
        "while temp>0:\n",
        "   dig=temp%10\n",
        "   sum=sum+dig**3\n",
        "   temp=temp//10\n",
        "\n",
        "if num==sum:\n",
        "  print(\"Number is armstrong\")\n",
        "\n",
        "else:\n",
        "   print(\"Number is not armstrong\")  \n"
      ],
      "metadata": {
        "colab": {
          "base_uri": "https://localhost:8080/"
        },
        "id": "OTdJrqlDBzD4",
        "outputId": "15eadaf4-d443-4ccc-9541-7ccf61b93409"
      },
      "execution_count": 27,
      "outputs": [
        {
          "output_type": "stream",
          "name": "stdout",
          "text": [
            "Enter the number:407\n",
            "Number is armstrong\n"
          ]
        }
      ]
    },
    {
      "cell_type": "markdown",
      "source": [
        "5. Write a Python Program to Find Armstrong Number in an Interval?"
      ],
      "metadata": {
        "id": "mPkcB6JkFwEJ"
      }
    },
    {
      "cell_type": "code",
      "source": [
        "lower = 100\n",
        "upper = 2000\n",
        "\n",
        "for num in range(lower, upper + 1):\n",
        "   order = len(str(num))\n",
        "    \n",
        "   sum = 0\n",
        "\n",
        "   temp = num\n",
        "   while temp > 0:\n",
        "       digit = temp % 10\n",
        "       sum += digit ** order\n",
        "       temp //= 10\n",
        "\n",
        "   if num == sum:\n",
        "       print(num)"
      ],
      "metadata": {
        "colab": {
          "base_uri": "https://localhost:8080/"
        },
        "id": "0L65TLhlFfhI",
        "outputId": "1cd66048-ae17-4b04-e691-354af918f174"
      },
      "execution_count": 28,
      "outputs": [
        {
          "output_type": "stream",
          "name": "stdout",
          "text": [
            "153\n",
            "370\n",
            "371\n",
            "407\n",
            "1634\n"
          ]
        }
      ]
    },
    {
      "cell_type": "markdown",
      "source": [
        "6. Write a Python Program to Find the Sum of Natural Numbers?"
      ],
      "metadata": {
        "id": "ivwX5S48Fe0G"
      }
    },
    {
      "cell_type": "code",
      "source": [
        "num=int(input(\"enter the number:\"))\n",
        "sum=0\n",
        "if num<0:\n",
        "  print(\"enter the positive number\")\n",
        "else:\n",
        "  while num>0:\n",
        "    sum=sum+num\n",
        "    num= num-1\n",
        "\n",
        "print(\"sum of number:\",sum)    "
      ],
      "metadata": {
        "colab": {
          "base_uri": "https://localhost:8080/"
        },
        "id": "U_DXVJl1HupN",
        "outputId": "47bc790e-fae3-4814-9378-ef9eaeead7d3"
      },
      "execution_count": 31,
      "outputs": [
        {
          "output_type": "stream",
          "name": "stdout",
          "text": [
            "enter the number:7\n",
            "sum of number: 28\n"
          ]
        }
      ]
    }
  ]
}