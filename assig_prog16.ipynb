{
  "nbformat": 4,
  "nbformat_minor": 0,
  "metadata": {
    "colab": {
      "provenance": []
    },
    "kernelspec": {
      "name": "python3",
      "display_name": "Python 3"
    },
    "language_info": {
      "name": "python"
    }
  },
  "cells": [
    {
      "cell_type": "markdown",
      "source": [
        "Question1. Write a function that stutters a word as if someone is struggling to read it. The\n",
        "first two letters are repeated twice with an ellipsis ... and space after each, and then the\n",
        "word is pronounced with a question mark ?."
      ],
      "metadata": {
        "id": "wFDL_4mlXNEr"
      }
    },
    {
      "cell_type": "code",
      "execution_count": 1,
      "metadata": {
        "colab": {
          "base_uri": "https://localhost:8080/"
        },
        "id": "hOTkepDlW5_2",
        "outputId": "43152e14-f538-4b51-c695-859170468339"
      },
      "outputs": [
        {
          "output_type": "stream",
          "name": "stdout",
          "text": [
            "Enter word : outstansing\n",
            "ou... ou... outstansing?\n"
          ]
        }
      ],
      "source": [
        "def stutter(word):\n",
        "    return ((word[:2]+'... ')*2)+word+'?'\n",
        "word = input('Enter word : ')\n",
        "print(stutter(word))"
      ]
    },
    {
      "cell_type": "markdown",
      "source": [
        "Question 2.Create a function that takes an angle in radians and returns the corresponding\n",
        "angle in degrees rounded to one decimal place."
      ],
      "metadata": {
        "id": "Kz9rBalFYulG"
      }
    },
    {
      "cell_type": "code",
      "source": [
        "def radians_to_degrees(radian):\n",
        "    pi = 3.14159\n",
        "    \n",
        "    degree = radian * (180/pi)\n",
        "    return round(degree,1)\n",
        "radian = float(input('Enter the Radian : '))\n",
        "print(\"degree =\",(radians_to_degrees(radian)))\n",
        "     "
      ],
      "metadata": {
        "colab": {
          "base_uri": "https://localhost:8080/"
        },
        "id": "ipdJV3WhYwTV",
        "outputId": "49eab58b-e8b4-4613-8e9a-5b3dd7f2fe5a"
      },
      "execution_count": 3,
      "outputs": [
        {
          "output_type": "stream",
          "name": "stdout",
          "text": [
            "Enter the Radian : 20\n",
            "degree = 1145.9\n"
          ]
        }
      ]
    },
    {
      "cell_type": "markdown",
      "source": [
        "Question 3. In this challenge, establish if a given integer num is a Curzon number. If 1 plus\n",
        "2 elevated to num is exactly divisible by 1 plus 2 multiplied by num, then num is a Curzon\n",
        "number.\n",
        "Given a non-negative integer num, implement a function that returns True if num is a Curzon\n",
        "number, or False otherwise."
      ],
      "metadata": {
        "id": "95cePdYAZtuv"
      }
    },
    {
      "cell_type": "code",
      "source": [
        "def CurzonNumber(n):\n",
        " \n",
        "    power, product = 0, 0\n",
        " \n",
        "    # Find 2**n + 1\n",
        "    power = pow(2,n) + 1\n",
        " \n",
        "    # Find 2*n + 1\n",
        "    product = 2 * n + 1\n",
        " \n",
        "    # Check for divisibility\n",
        "    if (power % product == 0):\n",
        "        print(n, \"is Curzon Number\")\n",
        "    else:\n",
        "        print(n, \"is not a Curzon Number\")\n",
        "        \n",
        "n = int(input('Enter a number : '))\n",
        "CurzonNumber(n)"
      ],
      "metadata": {
        "colab": {
          "base_uri": "https://localhost:8080/"
        },
        "id": "TKlpD-NjZvNz",
        "outputId": "5f3fb46c-bd30-4fde-b527-5ffebc381bc4"
      },
      "execution_count": 5,
      "outputs": [
        {
          "output_type": "stream",
          "name": "stdout",
          "text": [
            "Enter a number : 14\n",
            "14 is Curzon Number\n"
          ]
        }
      ]
    },
    {
      "cell_type": "markdown",
      "source": [
        "Question 4.Given the side length x find the area of a hexagon."
      ],
      "metadata": {
        "id": "Cts_VSbiayXx"
      }
    },
    {
      "cell_type": "code",
      "source": [
        "import math\n",
        "def area_of_hexagon(s):     \n",
        "    return round(((3 * math.sqrt(3) * (sideLength * sideLength)) / 2),4)\n",
        "     \n",
        "\n",
        "sideLength = float(input('Enter the length : '))\n",
        "\n",
        "print(\"Area:\",\"{}\".format(area_of_hexagon(sideLength)))"
      ],
      "metadata": {
        "colab": {
          "base_uri": "https://localhost:8080/"
        },
        "id": "rrTPCxC5bNbq",
        "outputId": "46e7a353-3141-4f0f-9991-2afd8faa458b"
      },
      "execution_count": 7,
      "outputs": [
        {
          "output_type": "stream",
          "name": "stdout",
          "text": [
            "Enter the length : 2.6\n",
            "Area: 17.563\n"
          ]
        }
      ]
    },
    {
      "cell_type": "markdown",
      "source": [
        "Question 5. Create a function that returns a base-2 (binary) representation of a base-10\n",
        "(decimal) string number. To convert is simple: ((2) means base-2 and (10) means base-10)\n",
        "010101001(2) = 1 + 8 + 32 + 128.\n",
        "Going from right to left, the value of the most right bit is 1, now from that every bit to the left\n",
        "will be x2 the value, value of an 8 bit binary numbers are (256, 128, 64, 32, 16, 8, 4, 2, 1)."
      ],
      "metadata": {
        "id": "MM1MrdIhbtB-"
      }
    },
    {
      "cell_type": "code",
      "source": [
        "def decimalToBinary(n):\n",
        "    return bin(n).replace(\"0b\", \"\")\n",
        "   \n",
        "for i in range(0,50):\n",
        "    print(decimalToBinary(i))"
      ],
      "metadata": {
        "colab": {
          "base_uri": "https://localhost:8080/"
        },
        "id": "6nMNUXGqbz17",
        "outputId": "ba39e6eb-3bb5-4ad0-eb08-061b5bcab522"
      },
      "execution_count": 8,
      "outputs": [
        {
          "output_type": "stream",
          "name": "stdout",
          "text": [
            "0\n",
            "1\n",
            "10\n",
            "11\n",
            "100\n",
            "101\n",
            "110\n",
            "111\n",
            "1000\n",
            "1001\n",
            "1010\n",
            "1011\n",
            "1100\n",
            "1101\n",
            "1110\n",
            "1111\n",
            "10000\n",
            "10001\n",
            "10010\n",
            "10011\n",
            "10100\n",
            "10101\n",
            "10110\n",
            "10111\n",
            "11000\n",
            "11001\n",
            "11010\n",
            "11011\n",
            "11100\n",
            "11101\n",
            "11110\n",
            "11111\n",
            "100000\n",
            "100001\n",
            "100010\n",
            "100011\n",
            "100100\n",
            "100101\n",
            "100110\n",
            "100111\n",
            "101000\n",
            "101001\n",
            "101010\n",
            "101011\n",
            "101100\n",
            "101101\n",
            "101110\n",
            "101111\n",
            "110000\n",
            "110001\n"
          ]
        }
      ]
    }
  ]
}