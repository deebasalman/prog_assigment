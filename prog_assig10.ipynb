{
  "nbformat": 4,
  "nbformat_minor": 0,
  "metadata": {
    "colab": {
      "provenance": []
    },
    "kernelspec": {
      "name": "python3",
      "display_name": "Python 3"
    },
    "language_info": {
      "name": "python"
    }
  },
  "cells": [
    {
      "cell_type": "markdown",
      "source": [
        "\n",
        "1. Write a Python program to find sum of elements in list?\n",
        "---\n",
        "\n"
      ],
      "metadata": {
        "id": "UiH0-fEh0CUP"
      }
    },
    {
      "cell_type": "code",
      "execution_count": 3,
      "metadata": {
        "colab": {
          "base_uri": "https://localhost:8080/"
        },
        "id": "BQU9EhKW0A2t",
        "outputId": "6a6253aa-6230-46cd-d071-4a155f314270"
      },
      "outputs": [
        {
          "output_type": "stream",
          "name": "stdout",
          "text": [
            "sum of the list element is: 23\n"
          ]
        }
      ],
      "source": [
        "l=[2,3,4,6,8]\n",
        "sum=0\n",
        "for i in range(len(l)):\n",
        "    sum=sum+l[i]\n",
        "\n",
        "print(\"sum of the list element is:\", sum)    "
      ]
    },
    {
      "cell_type": "markdown",
      "source": [
        "2. Write a Python program to Multiply all numbers in the list?"
      ],
      "metadata": {
        "id": "uArK6w0O0-v5"
      }
    },
    {
      "cell_type": "code",
      "source": [
        "l=[3,4,5,7,8]\n",
        "mul=1\n",
        "for i in range(len(l)):\n",
        "     mul=mul*l[i]\n",
        "\n",
        "print(\"Multiplication of list element is: \", mul)     \n"
      ],
      "metadata": {
        "colab": {
          "base_uri": "https://localhost:8080/"
        },
        "id": "vBYtKUmZ1F-6",
        "outputId": "aaf2947a-0c46-494d-bfeb-f3bd273fa347"
      },
      "execution_count": 5,
      "outputs": [
        {
          "output_type": "stream",
          "name": "stdout",
          "text": [
            "Multiplication of list element is:  3360\n"
          ]
        }
      ]
    },
    {
      "cell_type": "markdown",
      "source": [
        "3. Write a Python program to find smallest number in a list?"
      ],
      "metadata": {
        "id": "FrsFgSYh1ubN"
      }
    },
    {
      "cell_type": "code",
      "source": [
        "a=int(input(\"enter the lenth of the list\"))\n",
        "l=[]\n",
        "for i in range(a):\n",
        "  l.append(int(input()))\n",
        "\n",
        "print(\"list is:\",l)\n",
        "print(\"smallest no in list is:\",min(l) )"
      ],
      "metadata": {
        "colab": {
          "base_uri": "https://localhost:8080/"
        },
        "id": "mpbPhnEf1vd-",
        "outputId": "fd82a0f2-d99e-41b2-b20c-0db75459e5ce"
      },
      "execution_count": 7,
      "outputs": [
        {
          "output_type": "stream",
          "name": "stdout",
          "text": [
            "enter the lenth of the list5\n",
            "3\n",
            "6\n",
            "1\n",
            "8\n",
            "2\n",
            "list is: [3, 6, 1, 8, 2]\n",
            "smallest no in list is: 1\n"
          ]
        }
      ]
    },
    {
      "cell_type": "markdown",
      "source": [
        "4. Write a Python program to find largest number in a list?\n"
      ],
      "metadata": {
        "id": "bxdjpPoK3M8h"
      }
    },
    {
      "cell_type": "code",
      "source": [
        "a=int(input(\"enter the lenth of the list\"))\n",
        "l=[]\n",
        "for i in range(a):\n",
        "  l.append(int(input()))\n",
        "\n",
        "print(\"list is:\",l)\n",
        "print(\"smallest no in list is:\",max(l) )"
      ],
      "metadata": {
        "colab": {
          "base_uri": "https://localhost:8080/"
        },
        "id": "yiwVBSQH3Qco",
        "outputId": "8a31aee6-440d-4968-da36-e7539084aaf5"
      },
      "execution_count": 8,
      "outputs": [
        {
          "output_type": "stream",
          "name": "stdout",
          "text": [
            "enter the lenth of the list6\n",
            "3\n",
            "5\n",
            "6\n",
            "7\n",
            "2\n",
            "5\n",
            "list is: [3, 5, 6, 7, 2, 5]\n",
            "smallest no in list is: 7\n"
          ]
        }
      ]
    },
    {
      "cell_type": "markdown",
      "source": [
        "5. Write a Python program to find second largest number in a list?"
      ],
      "metadata": {
        "id": "kwte0USE3fm-"
      }
    },
    {
      "cell_type": "code",
      "source": [
        "a=int(input(\"enter the lenth of the list\"))\n",
        "l=[]\n",
        "for i in range(a):\n",
        "  l.append(int(input()))\n",
        "print(\"list is:\",l)\n",
        "\n",
        "l.sort()\n",
        "print(\"second largest number is\",l[-2])"
      ],
      "metadata": {
        "colab": {
          "base_uri": "https://localhost:8080/"
        },
        "id": "T5CobWbi3kC-",
        "outputId": "c191849a-17fc-4980-80db-193bc1dd6c25"
      },
      "execution_count": 9,
      "outputs": [
        {
          "output_type": "stream",
          "name": "stdout",
          "text": [
            "enter the lenth of the list6\n",
            "3\n",
            "5\n",
            "6\n",
            "1\n",
            "7\n",
            "2\n",
            "list is: [3, 5, 6, 1, 7, 2]\n",
            "second largest number is 6\n"
          ]
        }
      ]
    },
    {
      "cell_type": "markdown",
      "source": [
        "6. Write a Python program to find N largest elements from a list?"
      ],
      "metadata": {
        "id": "fMyrpSMW4ZbW"
      }
    },
    {
      "cell_type": "code",
      "source": [
        "a=int(input(\"enter the lenth of the list\"))\n",
        "l=[]\n",
        "for i in range(a):\n",
        "  l.append(int(input()))\n",
        "print(\"list is:\",l)\n",
        "\n",
        "l.sort()\n",
        "\n",
        "n=int(input(\"how many largest num you want?\"))\n",
        "\n",
        "print(n,\"largest number are\",l[(n):])"
      ],
      "metadata": {
        "colab": {
          "base_uri": "https://localhost:8080/"
        },
        "id": "hfLMdp904kHe",
        "outputId": "c9c3b180-99a6-438b-f6d6-38f72942a2d3"
      },
      "execution_count": 17,
      "outputs": [
        {
          "output_type": "stream",
          "name": "stdout",
          "text": [
            "enter the lenth of the list6\n",
            "2\n",
            "4\n",
            "1\n",
            "6\n",
            "3\n",
            "7\n",
            "list is: [2, 4, 1, 6, 3, 7]\n",
            "how many largest num you want?3\n",
            "3 largest number are [4, 6, 7]\n"
          ]
        }
      ]
    },
    {
      "cell_type": "markdown",
      "source": [
        "7. Write a Python program to print even numbers in a list?"
      ],
      "metadata": {
        "id": "ZdSISiaf6uBd"
      }
    },
    {
      "cell_type": "code",
      "source": [
        "a=int(input(\"enter the lenth of the list\"))\n",
        "l=[]\n",
        "for i in range(a):\n",
        "  l.append(int(input()))\n",
        "print(\"list is:\",l)\n",
        "print(\"even num in the list are:\")\n",
        "\n",
        "for i in range(a):\n",
        "  if l[i]%2==0:\n",
        "    print(l[i])"
      ],
      "metadata": {
        "colab": {
          "base_uri": "https://localhost:8080/"
        },
        "id": "PksLBSwH7pSg",
        "outputId": "5c8878e0-1128-48bd-f808-ebe6ee325475"
      },
      "execution_count": 20,
      "outputs": [
        {
          "output_type": "stream",
          "name": "stdout",
          "text": [
            "enter the lenth of the list6\n",
            "2\n",
            "4\n",
            "5\n",
            "8\n",
            "2\n",
            "9\n",
            "list is: [2, 4, 5, 8, 2, 9]\n",
            "even num in the list are:\n",
            "2\n",
            "4\n",
            "8\n",
            "2\n"
          ]
        }
      ]
    },
    {
      "cell_type": "markdown",
      "source": [
        "8. Write a Python program to print odd numbers in a List?"
      ],
      "metadata": {
        "id": "-bJtaWQH88-G"
      }
    },
    {
      "cell_type": "code",
      "source": [
        "a=int(input(\"enter the lenth of the list\"))\n",
        "l=[]\n",
        "for i in range(a):\n",
        "  l.append(int(input()))\n",
        "print(\"list is:\",l)\n",
        "print(\"odd num in the list are:\")\n",
        "\n",
        "for i in range(a):\n",
        "  if l[i]%2!=0:\n",
        "    print(l[i])"
      ],
      "metadata": {
        "colab": {
          "base_uri": "https://localhost:8080/"
        },
        "id": "UL7iOvNk88P2",
        "outputId": "349f6129-21dd-4837-d958-0ecfce9dc249"
      },
      "execution_count": 21,
      "outputs": [
        {
          "output_type": "stream",
          "name": "stdout",
          "text": [
            "enter the lenth of the list7\n",
            "3\n",
            "1\n",
            "4\n",
            "7\n",
            "8\n",
            "2\n",
            "5\n",
            "list is: [3, 1, 4, 7, 8, 2, 5]\n",
            "odd num in the list are:\n",
            "3\n",
            "1\n",
            "7\n",
            "5\n"
          ]
        }
      ]
    },
    {
      "cell_type": "markdown",
      "source": [
        "9. Write a Python program to Remove empty List from List?"
      ],
      "metadata": {
        "id": "zTjyTFsJ9VKQ"
      }
    },
    {
      "cell_type": "code",
      "source": [
        "l=[2,3,[],4,[5,6,],[],7,3,[],8]\n",
        "print(\"List is:\",l)\n",
        "\n",
        "l1=[i for i in l if i!=[]]\n",
        "print(\"new list is:\",l1)"
      ],
      "metadata": {
        "colab": {
          "base_uri": "https://localhost:8080/"
        },
        "id": "ArjeECeN9m7b",
        "outputId": "c70ee208-9fa3-4a1f-e0c7-0e0332a3be87"
      },
      "execution_count": 22,
      "outputs": [
        {
          "output_type": "stream",
          "name": "stdout",
          "text": [
            "List is: [2, 3, [], 4, [5, 6], [], 7, 3, [], 8]\n",
            "new list is: [2, 3, 4, [5, 6], 7, 3, 8]\n"
          ]
        }
      ]
    },
    {
      "cell_type": "markdown",
      "source": [
        "10. Write a Python program to Cloning or Copying a list?"
      ],
      "metadata": {
        "id": "SxbL27BQ-ZlK"
      }
    },
    {
      "cell_type": "code",
      "source": [
        "a=int(input(\"enter the lenth of the list\"))\n",
        "l=[]\n",
        "for i in range(a):\n",
        "  l.append(int(input()))\n",
        "print(\"list is:\",l)\n",
        "\n",
        "new_list=l.copy()\n",
        "\n",
        "print(\"New copy list is:\",new_list)"
      ],
      "metadata": {
        "colab": {
          "base_uri": "https://localhost:8080/"
        },
        "id": "ouJbCgc--hS6",
        "outputId": "1642102a-68bd-4c87-b6a8-9c6abbc67a0c"
      },
      "execution_count": 23,
      "outputs": [
        {
          "output_type": "stream",
          "name": "stdout",
          "text": [
            "enter the lenth of the list3\n",
            "4\n",
            "5\n",
            "6\n",
            "list is: [4, 5, 6]\n",
            "New copy list is: [4, 5, 6]\n"
          ]
        }
      ]
    },
    {
      "cell_type": "markdown",
      "source": [
        "11. Write a Python program to Count occurrences of an element in a list?"
      ],
      "metadata": {
        "id": "7QSV_s2Q_OZS"
      }
    },
    {
      "cell_type": "code",
      "source": [
        "a=int(input(\"enter the lenth of the list: \"))\n",
        "l=[]\n",
        "for i in range(a):\n",
        "  l.append(int(input()))\n",
        "print(\"list is:\",l)\n",
        "\n",
        "num=int(input(\"enter the element to find ifs occurences: \"))\n",
        "print(num,\" are occure in the list{} times\".format(l.count(num)))"
      ],
      "metadata": {
        "colab": {
          "base_uri": "https://localhost:8080/"
        },
        "id": "t9y_jUuA_QyQ",
        "outputId": "ca59a200-3d84-4ecc-d671-883a1b6d6405"
      },
      "execution_count": 26,
      "outputs": [
        {
          "output_type": "stream",
          "name": "stdout",
          "text": [
            "enter the lenth of the list: 6\n",
            "2\n",
            "4\n",
            "3\n",
            "2\n",
            "3\n",
            "1\n",
            "list is: [2, 4, 3, 2, 3, 1]\n",
            "enter the element to find ifs occurences: 3\n",
            "3  are occure in the list2 times\n"
          ]
        }
      ]
    }
  ]
}