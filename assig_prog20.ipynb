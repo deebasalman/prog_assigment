{
  "nbformat": 4,
  "nbformat_minor": 0,
  "metadata": {
    "colab": {
      "provenance": []
    },
    "kernelspec": {
      "name": "python3",
      "display_name": "Python 3"
    },
    "language_info": {
      "name": "python"
    }
  },
  "cells": [
    {
      "cell_type": "markdown",
      "source": [
        "Question1\n",
        "Create a function that takes a list of strings and integers, and filters out the list so that it\n",
        "returns a list of integers only."
      ],
      "metadata": {
        "id": "ET78UiUkMyit"
      }
    },
    {
      "cell_type": "code",
      "source": [
        "lst = [1, 2, 3, 'a', 'b', 4]\n",
        "def filter_list(lst):\n",
        "    int_list = []\n",
        "    for i in lst:\n",
        "        if type(i) == int:\n",
        "            int_list.append(i)\n",
        "       \n",
        "    return int_list\n",
        "     \n",
        "print(filter_list(lst))"
      ],
      "metadata": {
        "colab": {
          "base_uri": "https://localhost:8080/"
        },
        "id": "K1_HppsyMx_R",
        "outputId": "5120f057-33f6-4faa-e49d-4bf8f46ec5eb"
      },
      "execution_count": 2,
      "outputs": [
        {
          "output_type": "stream",
          "name": "stdout",
          "text": [
            "[1, 2, 3, 4]\n"
          ]
        }
      ]
    },
    {
      "cell_type": "markdown",
      "source": [
        "Question2\n",
        "Given a list of numbers, create a function which returns the list but with each element's\n",
        "index in the list added to itself. This means you add 0 to the number at index 0, add 1 to the\n",
        "number at index 1, etc..."
      ],
      "metadata": {
        "id": "Em87D-QRNkul"
      }
    },
    {
      "cell_type": "code",
      "execution_count": 3,
      "metadata": {
        "colab": {
          "base_uri": "https://localhost:8080/"
        },
        "id": "n8ZPlZ1RMwrF",
        "outputId": "e381c0e9-e743-49be-a85e-920f5a99126d"
      },
      "outputs": [
        {
          "output_type": "stream",
          "name": "stdout",
          "text": [
            "[0, 1, 2, 3, 4]\n"
          ]
        }
      ],
      "source": [
        "def add_indexes(lst):\n",
        "    ind = 0\n",
        "    index = []\n",
        "    for i in lst:\n",
        "        index.append(lst.index(i,ind) + i)\n",
        "        ind+=1\n",
        "    return index\n",
        "\n",
        "lst=[0,0,0,0,0]     \n",
        "print(add_indexes(lst))"
      ]
    },
    {
      "cell_type": "markdown",
      "source": [
        "Question3\n",
        "Create a function that takes the height and radius of a cone as arguments and returns the\n",
        "volume of the cone rounded to the nearest hundredth. See the resources tab for the formula."
      ],
      "metadata": {
        "id": "CaHOw9-aOurw"
      }
    },
    {
      "cell_type": "code",
      "source": [
        "\n",
        "import math\n",
        "pi = math.pi\n",
        " \n",
        "# calculate Volume of Cone\n",
        "def cone_volume(h, r):\n",
        "    return round((1 / 3) * pi * r * r * h)\n",
        " \n",
        "\n",
        "\n",
        "\n",
        "height = float(15)\n",
        "radius = float(6)\n",
        "\n",
        "print( \"Volume Of Cone : \", cone_volume(height, radius) )"
      ],
      "metadata": {
        "colab": {
          "base_uri": "https://localhost:8080/"
        },
        "id": "RQ-ojcqaPIMh",
        "outputId": "e6ab8e2d-c109-4aaf-c16e-3b15027a7daf"
      },
      "execution_count": 4,
      "outputs": [
        {
          "output_type": "stream",
          "name": "stdout",
          "text": [
            "Volume Of Cone :  565\n"
          ]
        }
      ]
    },
    {
      "cell_type": "markdown",
      "source": [
        "Question4\n",
        "This Triangular Number Sequence is generated from a pattern of dots that form a triangle.\n",
        "The first 5 numbers of the sequence, or dots, are:\n",
        "1, 3, 6, 10, 15\n",
        "This means that the first triangle has just one dot, the second one has three dots, the third one\n",
        "has 6 dots and so on.\n",
        "Write a function that gives the number of dots with its corresponding triangle number of the\n",
        "sequence."
      ],
      "metadata": {
        "id": "3BuU_lscOyMY"
      }
    },
    {
      "cell_type": "code",
      "source": [
        "def triangle(n):\n",
        "    return n*(n+1)*0.5\n",
        "\n",
        "n = int(input('Enter the triangle number :'))\n",
        "print(\"The {}th triangle has {} dots \".format(n,int(triangle(n))))"
      ],
      "metadata": {
        "colab": {
          "base_uri": "https://localhost:8080/"
        },
        "id": "3rGU80i-PUkb",
        "outputId": "195cac5c-7845-4eac-a7b4-fe24a79cf161"
      },
      "execution_count": 5,
      "outputs": [
        {
          "output_type": "stream",
          "name": "stdout",
          "text": [
            "Enter the triangle number :215\n",
            "The 215th triangle has 23220 dots \n"
          ]
        }
      ]
    },
    {
      "cell_type": "markdown",
      "source": [
        "Question5\n",
        "Create a function that takes a list of numbers between 1 and 10 (excluding one number) and\n",
        "returns the missing number."
      ],
      "metadata": {
        "id": "opUHJM9WPvaj"
      }
    },
    {
      "cell_type": "code",
      "source": [
        "def missing_num(lst):\n",
        "    total = sum([x for x in range(11)])\n",
        "    sum_Of_list = sum(lst)\n",
        "    return total - sum_Of_list\n",
        "\n",
        "print(missing_num([1, 2, 3, 4, 6, 7, 8, 9, 10]))"
      ],
      "metadata": {
        "colab": {
          "base_uri": "https://localhost:8080/"
        },
        "id": "AecmC0PDP8EF",
        "outputId": "afe7b717-76af-4749-ff9b-a7249e60c4bd"
      },
      "execution_count": 6,
      "outputs": [
        {
          "output_type": "stream",
          "name": "stdout",
          "text": [
            "5\n"
          ]
        }
      ]
    }
  ]
}