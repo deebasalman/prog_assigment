{
  "nbformat": 4,
  "nbformat_minor": 0,
  "metadata": {
    "colab": {
      "provenance": []
    },
    "kernelspec": {
      "name": "python3",
      "display_name": "Python 3"
    },
    "language_info": {
      "name": "python"
    }
  },
  "cells": [
    {
      "cell_type": "markdown",
      "source": [
        "1. Write a Python program to find words which are greater than given length k?"
      ],
      "metadata": {
        "id": "JkBzhaWlDB50"
      }
    },
    {
      "cell_type": "code",
      "source": [
        "user_input=input(\"Enter the string:\")\n",
        "k=int(input(\"Enter the length:\"))\n",
        "text=user_input.split()\n",
        "wordlist=[]\n",
        "\n",
        "for i in text:\n",
        "  if len(i)>k:\n",
        "    wordlist.append(i)\n",
        "\n",
        "print(wordlist)    \n"
      ],
      "metadata": {
        "colab": {
          "base_uri": "https://localhost:8080/"
        },
        "id": "TCNlr1N7DBZO",
        "outputId": "60b18612-40f8-4c14-c9ae-0ad705f9f405"
      },
      "execution_count": 13,
      "outputs": [
        {
          "output_type": "stream",
          "name": "stdout",
          "text": [
            "Enter the string:my name is deeba\n",
            "enter the length2\n",
            "['name', 'deeba']\n"
          ]
        }
      ]
    },
    {
      "cell_type": "markdown",
      "source": [
        "2. Write a Python program for removing i-th character from a string?"
      ],
      "metadata": {
        "id": "AYZAgmbiq1Ut"
      }
    },
    {
      "cell_type": "code",
      "source": [
        "def remove(str,i):\n",
        "  for j in range(len(str)):\n",
        "    if i==j:\n",
        "      str=str.replace(str[i], \"\", 1)\n",
        "      return str\n",
        "\n",
        "\n",
        "string=input(\"Enter the string:\")\n",
        "k=int(input(\"Enter the index value of character you want to remove\"))\n",
        "\n",
        "print(remove(string,k))"
      ],
      "metadata": {
        "colab": {
          "base_uri": "https://localhost:8080/"
        },
        "id": "o4WMM5Qrq46P",
        "outputId": "4ed4eafd-d58d-4105-b8f1-346338c52628"
      },
      "execution_count": 15,
      "outputs": [
        {
          "output_type": "stream",
          "name": "stdout",
          "text": [
            "Enter the string:helllo\n",
            "Enter the index value of character you want to remove2\n",
            "hello\n"
          ]
        }
      ]
    },
    {
      "cell_type": "markdown",
      "source": [
        "3. Write a Python program to split and join a string?"
      ],
      "metadata": {
        "id": "Xs9vfOvrvZhB"
      }
    },
    {
      "cell_type": "code",
      "source": [
        "string=input(\"Enter the string\")\n",
        "string1=string.split()\n",
        "print(\"spliting string is:\",string1)\n",
        "\n",
        "string2='-'.join(string1)\n",
        "print(\"joining the string\",string2)\n",
        "\n"
      ],
      "metadata": {
        "colab": {
          "base_uri": "https://localhost:8080/"
        },
        "id": "qyENn3vUq4z6",
        "outputId": "e637e867-8b7d-4ec9-daa4-b96f608d6fa6"
      },
      "execution_count": 17,
      "outputs": [
        {
          "output_type": "stream",
          "name": "stdout",
          "text": [
            "Enter the stringI love INDIA\n",
            "spliting string is: ['I', 'love', 'INDIA']\n",
            "joining the string I-love-INDIA\n"
          ]
        }
      ]
    },
    {
      "cell_type": "markdown",
      "source": [
        "4. Write a Python to check if a given string is binary string or not?"
      ],
      "metadata": {
        "id": "qWy6bQnXxPdf"
      }
    },
    {
      "cell_type": "code",
      "source": [
        "def ifbinary(str):\n",
        "    binary = '01'\n",
        "    for i in range(len(str)):\n",
        "        if str[i] not in binary:\n",
        "            print('Not Binary')\n",
        "            break\n",
        "    else:\n",
        "        print('Binary')\n",
        "        \n",
        "str = input(\"Enter the string : \")\n",
        "ifbinary(str)"
      ],
      "metadata": {
        "colab": {
          "base_uri": "https://localhost:8080/"
        },
        "id": "-ED6NNfGq4ui",
        "outputId": "80ec2a4d-c295-4a86-b12e-cc5c5077ffb8"
      },
      "execution_count": 18,
      "outputs": [
        {
          "output_type": "stream",
          "name": "stdout",
          "text": [
            "Enter the string : 111110000345\n",
            "Not Binary\n"
          ]
        }
      ]
    },
    {
      "cell_type": "markdown",
      "source": [
        "5. Write a Python program to find uncommon words from two Strings?"
      ],
      "metadata": {
        "id": "8cxQnP1ByICV"
      }
    },
    {
      "cell_type": "code",
      "source": [
        "def unCommon(a,b):\n",
        "    list_one = a.split()\n",
        "    list_two = b.split()\n",
        "    notcom =''\n",
        "    \n",
        "    for i in list_one:\n",
        "        if i not in list_two:\n",
        "            notcom = notcom +\" \"+ i\n",
        "    for j in list_two:\n",
        "        if j not in list_one:\n",
        "            notcom = notcom +\" \"+ j\n",
        "    return notcom\n",
        "\n",
        "a = input(\"Enter the string a : \").lower()\n",
        "b = input(\"Enter the string b : \").lower()\n",
        "\n",
        "print(\"The list of un Common words : \", unCommon(a,b))\n",
        "     "
      ],
      "metadata": {
        "colab": {
          "base_uri": "https://localhost:8080/"
        },
        "id": "iPj0RpHlyKJM",
        "outputId": "955fc11b-6398-4f63-f7c6-f1a3ef39c80e"
      },
      "execution_count": 19,
      "outputs": [
        {
          "output_type": "stream",
          "name": "stdout",
          "text": [
            "Enter the string a : MY NAME IS DEEBA\n",
            "Enter the string b : MY NAME IS SALMAN\n",
            "The list of un Common words :   deeba salman\n"
          ]
        }
      ]
    },
    {
      "cell_type": "markdown",
      "source": [
        "6. Write a Python to find all duplicate characters in string?"
      ],
      "metadata": {
        "id": "qvoAwjyJzUPB"
      }
    },
    {
      "cell_type": "code",
      "source": [
        "\n",
        "str = input(\"Enter the string a : \").lower()\n",
        "duplicate = []\n",
        "\n",
        "for i in str:\n",
        "    if str.count(i) > 1 :\n",
        "        if i not in duplicate:\n",
        "            duplicate.append(i)\n",
        "        \n",
        "duplicate"
      ],
      "metadata": {
        "colab": {
          "base_uri": "https://localhost:8080/"
        },
        "id": "wPso_0PgzVi_",
        "outputId": "40fcbca5-28ee-4cf4-b46a-8336384fbcf7"
      },
      "execution_count": 20,
      "outputs": [
        {
          "name": "stdout",
          "output_type": "stream",
          "text": [
            "Enter the string a : DEEBA\n"
          ]
        },
        {
          "output_type": "execute_result",
          "data": {
            "text/plain": [
              "['e']"
            ]
          },
          "metadata": {},
          "execution_count": 20
        }
      ]
    },
    {
      "cell_type": "markdown",
      "source": [
        "7. Write a Python Program to check if a string contains any special character?"
      ],
      "metadata": {
        "id": "lGPlGhw80JYq"
      }
    },
    {
      "cell_type": "code",
      "source": [
        "import string\n",
        "\n",
        "str_char = string.punctuation\n",
        "speci_str = []\n",
        "\n",
        "str = input(\"Enter the string a : \").lower()\n",
        "for i in str:\n",
        "    if i in str_char:\n",
        "        speci_str.append(i)\n",
        "if len(speci_str) > 0:\n",
        "    print(\"String {} has special charecter/s : {}\".format(str,speci_str))"
      ],
      "metadata": {
        "colab": {
          "base_uri": "https://localhost:8080/"
        },
        "id": "v2OgBRbs0K6J",
        "outputId": "f32e9692-c1d7-4901-d759-56f8a07157c3"
      },
      "execution_count": 21,
      "outputs": [
        {
          "output_type": "stream",
          "name": "stdout",
          "text": [
            "Enter the string a : MY NAME IS@##$$**\n",
            "String my name is@##$$** has special charecter/s : ['@', '#', '#', '$', '$', '*', '*']\n"
          ]
        }
      ]
    }
  ]
}