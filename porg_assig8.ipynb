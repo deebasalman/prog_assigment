{
  "nbformat": 4,
  "nbformat_minor": 0,
  "metadata": {
    "colab": {
      "provenance": []
    },
    "kernelspec": {
      "name": "python3",
      "display_name": "Python 3"
    },
    "language_info": {
      "name": "python"
    }
  },
  "cells": [
    {
      "cell_type": "markdown",
      "source": [
        "1. Write a Python Program to Add Two Matrices?"
      ],
      "metadata": {
        "id": "bGS-f0PyTKpa"
      }
    },
    {
      "cell_type": "code",
      "execution_count": 8,
      "metadata": {
        "colab": {
          "base_uri": "https://localhost:8080/"
        },
        "id": "9kIKONATTGGn",
        "outputId": "abf04835-4013-4885-9665-f4b8374bbfd0"
      },
      "outputs": [
        {
          "output_type": "stream",
          "name": "stdout",
          "text": [
            "[3, 8, 11]\n",
            "[9, 13, 18]\n",
            "[11, 14, 15]\n"
          ]
        }
      ],
      "source": [
        "x=[[1,4,5],\n",
        "   [5,6,9],\n",
        "   [7,8,6]]\n",
        "\n",
        "y=[[2,4,6],\n",
        "   [4,7,9],\n",
        "   [4,6,9]]\n",
        "\n",
        "result=[[0,0,0],\n",
        "        [0,0,0],\n",
        "        [0,0,0]]\n",
        "\n",
        "for i in range(len(x)):\n",
        "    for j in range(len(x[0])):\n",
        "      result[i][j]=x[i][j]+y[i][j]\n",
        "\n",
        "for r in result:\n",
        "  print(r)"
      ]
    },
    {
      "cell_type": "markdown",
      "source": [
        "2. Write a Python Program to Multiply Two Matrices?"
      ],
      "metadata": {
        "id": "5ojqimE9XIO4"
      }
    },
    {
      "cell_type": "code",
      "source": [
        "x=[[2,3,4],\n",
        "   [4,5,6],\n",
        "   [5,7,9]]\n",
        "\n",
        "y=[[4,6,7],\n",
        "   [4,7,8],\n",
        "   [5,6,7]]\n",
        "\n",
        "result=[[0,0,0],\n",
        "       [0,0,0],\n",
        "       [0,0,0]]\n",
        "\n",
        "for i in range(len(x)):\n",
        "  for j in range(len(x[0])):\n",
        "    result[i][j]=x[i][j]*y[i][j]\n",
        "\n",
        "for r in result:\n",
        "   print(r)    \n",
        "\n",
        "\n"
      ],
      "metadata": {
        "colab": {
          "base_uri": "https://localhost:8080/"
        },
        "id": "z6dXE3AvXRH3",
        "outputId": "6b3ddc8d-e951-4a65-d8e6-459ab3b347d0"
      },
      "execution_count": 11,
      "outputs": [
        {
          "output_type": "stream",
          "name": "stdout",
          "text": [
            "[8, 18, 28]\n",
            "[16, 35, 48]\n",
            "[25, 42, 63]\n"
          ]
        }
      ]
    },
    {
      "cell_type": "markdown",
      "source": [
        "3. Write a Python Program to Transpose a Matrix?"
      ],
      "metadata": {
        "id": "jJdvNkaxZxHK"
      }
    },
    {
      "cell_type": "code",
      "source": [
        "x=[[2,3,4],\n",
        "   [4,5,6]]\n",
        "\n",
        "result=[[0,0],\n",
        "       [0,0],\n",
        "       [0,0]]\n",
        "\n",
        "for i in range(len(x)):\n",
        "  for j in range(len(x[0])):\n",
        "    result[j][i]=x[i][j]\n",
        "\n",
        "for r in result:\n",
        "     print(r)           "
      ],
      "metadata": {
        "colab": {
          "base_uri": "https://localhost:8080/"
        },
        "id": "zKUXLY3jZyzm",
        "outputId": "9c56cb00-284b-4336-86dc-8f0e493158f7"
      },
      "execution_count": 13,
      "outputs": [
        {
          "output_type": "stream",
          "name": "stdout",
          "text": [
            "[2, 4]\n",
            "[3, 5]\n",
            "[4, 6]\n"
          ]
        }
      ]
    },
    {
      "cell_type": "markdown",
      "source": [
        "4. Write a Python Program to Sort Words in Alphabetic Order?"
      ],
      "metadata": {
        "id": "-0oiznSibl_2"
      }
    },
    {
      "cell_type": "code",
      "source": [
        "user_input=input(\"enter the word:\")\n",
        "\n",
        "word=user_input.split()\n",
        "\n",
        "word.sort()\n",
        "\n",
        "for j in word:\n",
        "    print(j)      \n",
        "\n"
      ],
      "metadata": {
        "colab": {
          "base_uri": "https://localhost:8080/"
        },
        "id": "PLs6gcG2bncZ",
        "outputId": "94777010-e46c-437f-fe1c-c214d1c0dd8e"
      },
      "execution_count": 22,
      "outputs": [
        {
          "output_type": "stream",
          "name": "stdout",
          "text": [
            "enter the word:my name is deeba\n",
            "deeba\n",
            "is\n",
            "my\n",
            "name\n"
          ]
        }
      ]
    },
    {
      "cell_type": "markdown",
      "source": [
        "5. Write a Python Program to Remove Punctuation From a String?"
      ],
      "metadata": {
        "id": "3Ev6bxhVheeD"
      }
    },
    {
      "cell_type": "code",
      "source": [
        "from string import punctuation\n",
        "str=input(\"Enter the string:\")\n",
        "\n",
        "punctuation=\"\"\"!@#$%^&*()_-{}|:\"<>?[]\\'';/.,''\"\"\"\n",
        "\n",
        "no_punct=\" \"\n",
        "\n",
        "for char in str:\n",
        "  if char not in punctuation:\n",
        "      no_punct=no_punct + char\n",
        "\n",
        "print(no_punct)      \n",
        "\n"
      ],
      "metadata": {
        "colab": {
          "base_uri": "https://localhost:8080/"
        },
        "id": "PKM7u9cBhf4d",
        "outputId": "9834300b-514e-4119-a4f5-a9d807108ec6"
      },
      "execution_count": 24,
      "outputs": [
        {
          "output_type": "stream",
          "name": "stdout",
          "text": [
            "Enter the stringhello! this ;; is // my (program)\n",
            " hello this  is  my program\n"
          ]
        }
      ]
    }
  ]
}