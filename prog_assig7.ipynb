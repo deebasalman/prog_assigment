{
  "nbformat": 4,
  "nbformat_minor": 0,
  "metadata": {
    "colab": {
      "provenance": []
    },
    "kernelspec": {
      "name": "python3",
      "display_name": "Python 3"
    },
    "language_info": {
      "name": "python"
    }
  },
  "cells": [
    {
      "cell_type": "markdown",
      "source": [
        "1. Write a Python Program to find sum of array?"
      ],
      "metadata": {
        "id": "y8TKyFdkgFi1"
      }
    },
    {
      "cell_type": "code",
      "execution_count": 7,
      "metadata": {
        "colab": {
          "base_uri": "https://localhost:8080/"
        },
        "id": "cso26oBjgCyN",
        "outputId": "ee6414a7-6f5a-4183-c1b6-d91837e7e1e9"
      },
      "outputs": [
        {
          "output_type": "stream",
          "name": "stdout",
          "text": [
            "sum 17\n"
          ]
        }
      ],
      "source": [
        "a=[1,2,3,5,6]\n",
        "sum=0\n",
        "for i in range(len(a)):\n",
        "   sum=sum + a[i]\n",
        "\n",
        "print(\"sum\",sum)   "
      ]
    },
    {
      "cell_type": "markdown",
      "source": [
        "2. Write a Python Program to find largest element in an array?"
      ],
      "metadata": {
        "id": "IUaaxE5WiF8g"
      }
    },
    {
      "cell_type": "code",
      "source": [
        "a=[1,2,5,3,6,7]\n",
        "max=a[0]\n",
        "for i in range(len(a)):\n",
        "     if a[i]>max:\n",
        "         max=a[i]\n",
        "    \n",
        "print(max)    "
      ],
      "metadata": {
        "colab": {
          "base_uri": "https://localhost:8080/"
        },
        "id": "USs5KimdgzJr",
        "outputId": "1a02c216-5f3b-46c3-8c39-f3ebc9fed5d8"
      },
      "execution_count": 9,
      "outputs": [
        {
          "output_type": "stream",
          "name": "stdout",
          "text": [
            "7\n"
          ]
        }
      ]
    },
    {
      "cell_type": "markdown",
      "source": [
        "3. Write a Python Program for array rotation?"
      ],
      "metadata": {
        "id": "9REGtX9akqk-"
      }
    },
    {
      "cell_type": "code",
      "source": [
        "a=[1,2,4,5,7,8]\n",
        "b=[]\n",
        "n=len(a)\n",
        "m=1\n",
        "while(m<=n):\n",
        "   print(a[-m])\n",
        "   m+=1\n",
        "  "
      ],
      "metadata": {
        "colab": {
          "base_uri": "https://localhost:8080/"
        },
        "id": "4vHEPD28kpco",
        "outputId": "0ea320c4-ffca-4096-9e30-c1094fb2528f"
      },
      "execution_count": 16,
      "outputs": [
        {
          "output_type": "stream",
          "name": "stdout",
          "text": [
            "8\n",
            "7\n",
            "5\n",
            "4\n",
            "2\n",
            "1\n"
          ]
        }
      ]
    },
    {
      "cell_type": "markdown",
      "source": [
        "4. Write a Python Program to Split the array and add the first part to the end?"
      ],
      "metadata": {
        "id": "PPSVtgmioKB1"
      }
    },
    {
      "cell_type": "code",
      "source": [
        "def splitArr(arr, n, k):\n",
        "\tfor i in range(0, k):\n",
        "\t\tx = arr[0]\n",
        "\t\tfor j in range(0, n-1):\n",
        "\t\t\tarr[j] = arr[j + 1]\n",
        "\t\t\n",
        "\t\tarr[n-1] = x\n",
        "\t\t\n",
        "arr = [1,2,3,4,5,6,7,8]\n",
        "n = len(arr)\n",
        "position = 4\n",
        "\n",
        "splitArr(arr, n, position)\n",
        "\n",
        "for i in range(0, n):\n",
        "\tprint(arr[i], end = ' ')\n"
      ],
      "metadata": {
        "colab": {
          "base_uri": "https://localhost:8080/"
        },
        "id": "xfohaqdnoOEw",
        "outputId": "82552d8f-57cc-408e-b8ec-479eaff5c056"
      },
      "execution_count": 17,
      "outputs": [
        {
          "output_type": "stream",
          "name": "stdout",
          "text": [
            "5 6 7 8 1 2 3 4 "
          ]
        }
      ]
    },
    {
      "cell_type": "markdown",
      "source": [
        "5. Write a Python Program to check if given array is Monotonic?"
      ],
      "metadata": {
        "id": "64Zl1P8jqjTy"
      }
    },
    {
      "cell_type": "code",
      "source": [
        "def monotonic(a):\n",
        "    n = len(a)\n",
        "    return (all(a[i]<=a[i+1] for i in range(n-1)) or\n",
        "            all(a[i]>=a[i+1] for i in range(n-1)))\n",
        "a = [3,4,5,7,9]\n",
        "print(monotonic(a))"
      ],
      "metadata": {
        "colab": {
          "base_uri": "https://localhost:8080/"
        },
        "id": "MDj21Zd_roEz",
        "outputId": "b3b5dbdb-63bf-4a57-9b04-c418f9b16be5"
      },
      "execution_count": 20,
      "outputs": [
        {
          "output_type": "stream",
          "name": "stdout",
          "text": [
            "True\n"
          ]
        }
      ]
    },
    {
      "cell_type": "markdown",
      "source": [],
      "metadata": {
        "id": "zXiVJnWornCl"
      }
    }
  ]
}