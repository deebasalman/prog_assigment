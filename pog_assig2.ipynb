{
  "nbformat": 4,
  "nbformat_minor": 0,
  "metadata": {
    "colab": {
      "provenance": []
    },
    "kernelspec": {
      "name": "python3",
      "display_name": "Python 3"
    },
    "language_info": {
      "name": "python"
    }
  },
  "cells": [
    {
      "cell_type": "markdown",
      "source": [
        "1. Write a Python program to convert kilometers to miles?"
      ],
      "metadata": {
        "id": "mNqNgfLckad2"
      }
    },
    {
      "cell_type": "code",
      "execution_count": 8,
      "metadata": {
        "colab": {
          "base_uri": "https://localhost:8080/"
        },
        "id": "aIyNf30RkWVI",
        "outputId": "5a853f00-f700-411a-cb86-6219e02680d2"
      },
      "outputs": [
        {
          "output_type": "stream",
          "name": "stdout",
          "text": [
            "enter the km:3.2\n",
            "1.9883872\n"
          ]
        }
      ],
      "source": [
        "km=float(input(\"enter the km:\"))\n",
        "conv_factor=0.621371\n",
        "miles=km*conv_factor\n",
        "print(miles)"
      ]
    },
    {
      "cell_type": "markdown",
      "source": [
        "2. Write a Python program to convert Celsius to Fahrenheit?"
      ],
      "metadata": {
        "id": "KRqrXfgEmiTH"
      }
    },
    {
      "cell_type": "code",
      "source": [
        "celsius=int(input(\"enter the celsius: \"))\n",
        "fahrenheit=(celsius*1.8)+32\n",
        "print(fahrenheit)"
      ],
      "metadata": {
        "colab": {
          "base_uri": "https://localhost:8080/"
        },
        "id": "22CCmbPKm6JB",
        "outputId": "d14212e5-b0bd-4335-bd9d-4e3667032211"
      },
      "execution_count": 12,
      "outputs": [
        {
          "output_type": "stream",
          "name": "stdout",
          "text": [
            "enter the celsius: 34\n",
            "93.2\n"
          ]
        }
      ]
    },
    {
      "cell_type": "markdown",
      "source": [
        "3. Write a Python program to display calendar?"
      ],
      "metadata": {
        "id": "68rmWNtFpQ2z"
      }
    },
    {
      "cell_type": "code",
      "source": [
        "import calendar\n",
        "yy=int(input(\"Enter the year: \"))\n",
        "mm=int(input(\"Enter the month: \"))\n",
        "print(calendar.month(yy,mm))"
      ],
      "metadata": {
        "colab": {
          "base_uri": "https://localhost:8080/"
        },
        "id": "0Gf3iTl5pYks",
        "outputId": "6ab337d7-a040-43a6-818e-b34842798be2"
      },
      "execution_count": 14,
      "outputs": [
        {
          "output_type": "stream",
          "name": "stdout",
          "text": [
            "Enter the year: 2023\n",
            "Enter the month: 5\n",
            "      May 2023\n",
            "Mo Tu We Th Fr Sa Su\n",
            " 1  2  3  4  5  6  7\n",
            " 8  9 10 11 12 13 14\n",
            "15 16 17 18 19 20 21\n",
            "22 23 24 25 26 27 28\n",
            "29 30 31\n",
            "\n"
          ]
        }
      ]
    },
    {
      "cell_type": "markdown",
      "source": [
        "4. Write a Python program to solve quadratic equation?"
      ],
      "metadata": {
        "id": "7A6CPA2NrxNd"
      }
    },
    {
      "cell_type": "code",
      "source": [
        "import cmath\n",
        "a=int(input(\"Enter the value a: \"))\n",
        "b=int(input(\"Enter the value b: \"))\n",
        "c=int(input(\"Enter the value c: \"))\n",
        "discriminant = (b**2) - (4*a*c)\n",
        "\n",
        "sol1=(-b-cmath.sqrt(discriminant))/2*a\n",
        "sol2=(-b+cmath.sqrt(discriminant))/2*a\n",
        "\n",
        "print(\"root1 \",sol1)\n",
        "print(\"root2 \",sol2)"
      ],
      "metadata": {
        "colab": {
          "base_uri": "https://localhost:8080/"
        },
        "id": "6cCNXXAYryor",
        "outputId": "ceddef89-76ee-40e4-e3ac-9bb54cf41357"
      },
      "execution_count": 1,
      "outputs": [
        {
          "output_type": "stream",
          "name": "stdout",
          "text": [
            "Enter the value a: 2\n",
            "Enter the value b: 3\n",
            "Enter the value c: 4\n",
            "root1  (-3-4.795831523312719j)\n",
            "root2  (-3+4.795831523312719j)\n"
          ]
        }
      ]
    },
    {
      "cell_type": "markdown",
      "source": [
        "5. Write a Python program to swap two variables without temp variable?"
      ],
      "metadata": {
        "id": "dYxu60Q6vg41"
      }
    },
    {
      "cell_type": "code",
      "source": [
        "a=3\n",
        "b=6\n",
        "a,b=6,3\n",
        "print('a=',a)\n",
        "print('b=',b)"
      ],
      "metadata": {
        "colab": {
          "base_uri": "https://localhost:8080/"
        },
        "id": "uCy3tOkcviN3",
        "outputId": "08d4e89a-1978-40f6-f9f6-f32adc7a0a18"
      },
      "execution_count": 3,
      "outputs": [
        {
          "output_type": "stream",
          "name": "stdout",
          "text": [
            "a= 6\n",
            "b= 3\n"
          ]
        }
      ]
    },
    {
      "cell_type": "code",
      "source": [],
      "metadata": {
        "id": "uvWr3lrrrkm6"
      },
      "execution_count": null,
      "outputs": []
    }
  ]
}