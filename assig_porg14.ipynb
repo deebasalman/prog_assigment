{
  "nbformat": 4,
  "nbformat_minor": 0,
  "metadata": {
    "colab": {
      "provenance": []
    },
    "kernelspec": {
      "name": "python3",
      "display_name": "Python 3"
    },
    "language_info": {
      "name": "python"
    }
  },
  "cells": [
    {
      "cell_type": "markdown",
      "source": [
        "Define a class with a generator which can iterate the numbers, which are divisible by\n",
        "7, between a given range 0 and n."
      ],
      "metadata": {
        "id": "byEOErD-LGdJ"
      }
    },
    {
      "cell_type": "code",
      "execution_count": 2,
      "metadata": {
        "colab": {
          "base_uri": "https://localhost:8080/"
        },
        "id": "Tzbial_4K-oJ",
        "outputId": "87b5f972-f4f5-47a2-dcc4-2760373b0e41"
      },
      "outputs": [
        {
          "output_type": "stream",
          "name": "stdout",
          "text": [
            "enter n : 50\n",
            "0\n",
            "7\n",
            "14\n",
            "21\n",
            "28\n",
            "35\n",
            "42\n",
            "49\n"
          ]
        }
      ],
      "source": [
        "def gen(n):\n",
        "  \n",
        "  for i in range(0,n):\n",
        "    if i%7==0:\n",
        "      print(i)\n",
        "n = int(input('enter n : '))\n",
        "gen(n)   "
      ]
    },
    {
      "cell_type": "markdown",
      "source": [
        "Write a program to compute the frequency of the words from the input. The output\n",
        "should output after sorting the key alphanumerically."
      ],
      "metadata": {
        "id": "0ygut6rOL-oQ"
      }
    },
    {
      "cell_type": "code",
      "source": [
        "Sentence = input('Enter the sentence ').split()\n",
        "word = sorted(set(Sentence))    \n",
        "\n",
        "for i in word:\n",
        "    print(\"{0}:{1}\".format(i,Sentence.count(i)))"
      ],
      "metadata": {
        "colab": {
          "base_uri": "https://localhost:8080/"
        },
        "id": "xzh6yglkM7d6",
        "outputId": "09f67879-9dde-4acb-d701-0b3e4958063c"
      },
      "execution_count": 3,
      "outputs": [
        {
          "output_type": "stream",
          "name": "stdout",
          "text": [
            "Enter the sentence New to Python or choosing between Python 2 and Python 3? Read Python 2 or Python 3.\n",
            "2:2\n",
            "3.:1\n",
            "3?:1\n",
            "New:1\n",
            "Python:5\n",
            "Read:1\n",
            "and:1\n",
            "between:1\n",
            "choosing:1\n",
            "or:2\n",
            "to:1\n"
          ]
        }
      ]
    },
    {
      "cell_type": "markdown",
      "source": [
        "Define a class Person and its two child classes: Male and Female. All classes have a\n",
        "method \"getGender\" which can print \"Male\" for Male class and \"Female\" for Female\n",
        "class."
      ],
      "metadata": {
        "id": "9AyypPr3M68y"
      }
    },
    {
      "cell_type": "code",
      "source": [
        "class Person(object):\n",
        "    def getGender( self ):\n",
        "        return \"None\"\n",
        "\n",
        "class Male( Person ):\n",
        "    def getGender( self ):\n",
        "        return \"Male\"\n",
        "\n",
        "class Female( Person ):\n",
        "    def getGender( self ):\n",
        "        return \"Female\"\n",
        "\n",
        "ob_male = Male()\n",
        "ob_female= Female()\n",
        "print(ob_male.getGender())\n",
        "print(ob_female.getGender())"
      ],
      "metadata": {
        "colab": {
          "base_uri": "https://localhost:8080/"
        },
        "id": "wyKlbStcOHFH",
        "outputId": "a652207d-9159-48d9-8e96-71376b9f4296"
      },
      "execution_count": 4,
      "outputs": [
        {
          "output_type": "stream",
          "name": "stdout",
          "text": [
            "Male\n",
            "Female\n"
          ]
        }
      ]
    },
    {
      "cell_type": "markdown",
      "source": [
        "Question 4:\n",
        "Please write a program to generate all sentences where subject is in [\"I\",\"You\"] and\n",
        "verb is in [\"Play\",\"Love\"] and the object is in [\"Hockey\",\"Football\"]."
      ],
      "metadata": {
        "id": "i21yJ764O4_Q"
      }
    },
    {
      "cell_type": "code",
      "source": [
        "subject=[\"I\", \"You\"]\n",
        "verb=[\"Play\", \"Love\"]\n",
        "obj=[\"Hockey\",\"Football\"]\n",
        "\n",
        "\n",
        "str_list = [(sub+\" \"+ vb + \" \" + ob) for sub in subject for vb in verb for ob in obj]\n",
        "for sentence in str_list:\n",
        "    print(sentence)"
      ],
      "metadata": {
        "colab": {
          "base_uri": "https://localhost:8080/"
        },
        "id": "HqS-OdpFPuUy",
        "outputId": "ef23366b-5193-4a0c-ed97-2621fdef8c84"
      },
      "execution_count": 5,
      "outputs": [
        {
          "output_type": "stream",
          "name": "stdout",
          "text": [
            "I Play Hockey\n",
            "I Play Football\n",
            "I Love Hockey\n",
            "I Love Football\n",
            "You Play Hockey\n",
            "You Play Football\n",
            "You Love Hockey\n",
            "You Love Football\n"
          ]
        }
      ]
    },
    {
      "cell_type": "markdown",
      "source": [
        "Question 5:\n",
        "Please write a program to compress and decompress the string \"hello world!hello\n",
        "world!hello world!hello world!\"."
      ],
      "metadata": {
        "id": "iz9vgyGoQNTi"
      }
    },
    {
      "cell_type": "code",
      "source": [
        "import zlib\n",
        "str = 'hello world!hello world!hello world!hello world!'\n",
        "\n",
        "a = bytes(str, 'utf-8')\n",
        "b = zlib.compress(a)\n",
        "print(b)\n",
        "print(zlib.decompress(b))"
      ],
      "metadata": {
        "colab": {
          "base_uri": "https://localhost:8080/"
        },
        "id": "mrkdxAnWQTsa",
        "outputId": "e546bdb9-c640-4285-cc14-04797b3a0881"
      },
      "execution_count": 6,
      "outputs": [
        {
          "output_type": "stream",
          "name": "stdout",
          "text": [
            "b'x\\x9c\\xcbH\\xcd\\xc9\\xc9W(\\xcf/\\xcaIQ\\xcc \\x82\\r\\x00\\xbd[\\x11\\xf5'\n",
            "b'hello world!hello world!hello world!hello world!'\n"
          ]
        }
      ]
    },
    {
      "cell_type": "markdown",
      "source": [
        "Question 6:\n",
        "Please write a binary search function which searches an item in a sorted list. The\n",
        "function should return the index of element to be searched in the list."
      ],
      "metadata": {
        "id": "TKKoiITKQksx"
      }
    },
    {
      "cell_type": "code",
      "source": [
        "from bisect import bisect_left\n",
        "  \n",
        "def BinarySearch(a, x):\n",
        "    i = bisect_left(a, x)\n",
        "    if i != len(a) and a[i] == x:\n",
        "        return i\n",
        "    else:\n",
        "        return -1 \n",
        "\n",
        "a = [1, 2, 4, 4, 8]\n",
        "x = int(4)\n",
        "res = BinarySearch(a, x)\n",
        "if res == -1:\n",
        "    print(x, \"is absent\")\n",
        "else:\n",
        "    print(\"First occurrence of\", x, \"is present at\", res)"
      ],
      "metadata": {
        "colab": {
          "base_uri": "https://localhost:8080/"
        },
        "id": "BaZpGRThQqPP",
        "outputId": "2b488812-8489-4b39-ea89-7137da2485ef"
      },
      "execution_count": 7,
      "outputs": [
        {
          "output_type": "stream",
          "name": "stdout",
          "text": [
            "First occurrence of 4 is present at 2\n"
          ]
        }
      ]
    }
  ]
}