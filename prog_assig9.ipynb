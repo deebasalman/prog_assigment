{
  "nbformat": 4,
  "nbformat_minor": 0,
  "metadata": {
    "colab": {
      "provenance": []
    },
    "kernelspec": {
      "name": "python3",
      "display_name": "Python 3"
    },
    "language_info": {
      "name": "python"
    }
  },
  "cells": [
    {
      "cell_type": "markdown",
      "source": [
        "1. Write a Python program to check if the given number is a Disarium Number?"
      ],
      "metadata": {
        "id": "beYD_m8FqPiS"
      }
    },
    {
      "cell_type": "code",
      "source": [
        "def is_disarium(num):\n",
        "    temp = 0\n",
        "    for i in range(len(str(num))):\n",
        "        temp += int(str(num)[i]) ** (i + 1)\n",
        "    return temp == num\n",
        "\n",
        "a=int(input(\"enter the number:\"))\n",
        "print(\"number is disarium\")\n",
        "is_disarium(a)"
      ],
      "metadata": {
        "colab": {
          "base_uri": "https://localhost:8080/"
        },
        "id": "nZJ3A1rItnYr",
        "outputId": "4c0d1462-73f0-428d-85e6-a53ba6f4ca6c"
      },
      "execution_count": 11,
      "outputs": [
        {
          "output_type": "stream",
          "name": "stdout",
          "text": [
            "enter the number:175\n",
            "number is disarium\n"
          ]
        },
        {
          "output_type": "execute_result",
          "data": {
            "text/plain": [
              "True"
            ]
          },
          "metadata": {},
          "execution_count": 11
        }
      ]
    },
    {
      "cell_type": "markdown",
      "source": [
        "2. Write a Python program to print all disarium numbers between 1 to 100?"
      ],
      "metadata": {
        "id": "Cwf9OKLBuuMz"
      }
    },
    {
      "cell_type": "code",
      "source": [
        "def Disarium(num):\n",
        "    sum = 0\n",
        "    while(num>0):\n",
        "        l= len(str(num))\n",
        "        no = num%10\n",
        "        sum= sum + no**l   \n",
        "        l-=1\n",
        "        num = num//10\n",
        "    return sum\n",
        "\n",
        "print(\"Disarium no in range 1 to 100\")\n",
        "\n",
        "disno = []\n",
        "\n",
        "for i in range(1,101):\n",
        "    sum = 0\n",
        "    sum = Disarium(i)\n",
        "    if sum == i:\n",
        "        disno.append(i)        \n",
        "print(disno)\n",
        "     \n",
        "     "
      ],
      "metadata": {
        "colab": {
          "base_uri": "https://localhost:8080/"
        },
        "id": "z9V-cgSeuzdT",
        "outputId": "9a7fc4ce-78ed-4e8c-8e81-d522fb2a082a"
      },
      "execution_count": 12,
      "outputs": [
        {
          "output_type": "stream",
          "name": "stdout",
          "text": [
            "Disarium no in range 1 to 100\n",
            "[1, 2, 3, 4, 5, 6, 7, 8, 9, 89]\n"
          ]
        }
      ]
    },
    {
      "cell_type": "markdown",
      "source": [
        "3. Write a Python program to check if the given number is Happy Number?"
      ],
      "metadata": {
        "id": "MN-Vu5hcxQd0"
      }
    },
    {
      "cell_type": "code",
      "source": [
        "def Happy(num):\n",
        "    sum = 0\n",
        "    while(num>0):\n",
        "        dig = num%10\n",
        "        sum= sum + dig**2        \n",
        "        num = num//10\n",
        "    return sum\n",
        "\n",
        "num = int(input(\"Enter the number :\"))\n",
        "result = num\n",
        "\n",
        "\n",
        "while (result != 1 and result != 4):\n",
        "    result = Happy(result)\n",
        "\n",
        "if result == 1:\n",
        "    print(num,\"Is a Happy Number\")\n",
        "else:\n",
        "    print(num,\" Is a Unhappy Number\")"
      ],
      "metadata": {
        "colab": {
          "base_uri": "https://localhost:8080/"
        },
        "id": "S4nmO5Djxdhd",
        "outputId": "c43f8e09-564e-40c0-a24a-d8e8d8cdd024"
      },
      "execution_count": 15,
      "outputs": [
        {
          "output_type": "stream",
          "name": "stdout",
          "text": [
            "Enter the number :7\n",
            "7 Is a Happy Number\n"
          ]
        }
      ]
    },
    {
      "cell_type": "markdown",
      "source": [
        "4. Write a Python program to print all happy numbers between 1 and 100?"
      ],
      "metadata": {
        "id": "3aE6A0P4xzdv"
      }
    },
    {
      "cell_type": "code",
      "source": [
        "def Happy(num):\n",
        "    sum = 0\n",
        "    while(num>0):\n",
        "        dig = num%10\n",
        "        sum= sum + dig**2        \n",
        "        num = num//10\n",
        "    return sum\n",
        "\n",
        "print(\"Happy numbers in range 1 to 100\")\n",
        "result=num=i=0\n",
        "happyNo = []\n",
        "for i in range(1,101):\n",
        "    result = i\n",
        "    while (result != 1 and result != 4):\n",
        "        result = Happy(result)    \n",
        "    if result == 1:\n",
        "        happyNo.append(i)\n",
        "print(happyNo)\n"
      ],
      "metadata": {
        "colab": {
          "base_uri": "https://localhost:8080/"
        },
        "id": "eYqIuORPx0wc",
        "outputId": "39e4f440-a1d5-497b-cc17-4202350ebb3c"
      },
      "execution_count": 16,
      "outputs": [
        {
          "output_type": "stream",
          "name": "stdout",
          "text": [
            "Happy numbers in range 1 to 100\n",
            "[1, 7, 10, 13, 19, 23, 28, 31, 32, 44, 49, 68, 70, 79, 82, 86, 91, 94, 97, 100]\n"
          ]
        }
      ]
    },
    {
      "cell_type": "markdown",
      "source": [
        "5. Write a Python program to determine whether the given number is a Harshad Number?"
      ],
      "metadata": {
        "id": "8_J_2qQNyC7E"
      }
    },
    {
      "cell_type": "code",
      "source": [
        "def harshad(num):\n",
        "    sum = 0\n",
        "    while(num>0):\n",
        "        dig = num%10\n",
        "        sum= sum + dig      \n",
        "        num = num//10\n",
        "    return sum\n",
        "\n",
        "num = int(input(\"Enter no. :\"))\n",
        "sum = harshad(num)\n",
        "\n",
        "if num % sum == 0:\n",
        "    print(num,\"Is a Harshad number\")\n",
        "else:\n",
        "    print(num,\"Is not a Harshad number\")"
      ],
      "metadata": {
        "colab": {
          "base_uri": "https://localhost:8080/"
        },
        "id": "nfOgYmbGyCck",
        "outputId": "746c6aee-c805-4d8f-80d8-ec0e72a46683"
      },
      "execution_count": 19,
      "outputs": [
        {
          "output_type": "stream",
          "name": "stdout",
          "text": [
            "Enter no. :54\n",
            "54 Is a Harshad number\n"
          ]
        }
      ]
    },
    {
      "cell_type": "markdown",
      "source": [
        "6. Write a Python program to print all pronic numbers between 1 and 100?"
      ],
      "metadata": {
        "id": "zpAVmuMmyuVq"
      }
    },
    {
      "cell_type": "code",
      "source": [
        "def PronicNo(num):\n",
        "    Pronic = False\n",
        "    for i in range(1,num+1):\n",
        "        if i*(i+1) == num:\n",
        "            Pronic = True\n",
        "            break\n",
        "    return Pronic\n",
        "\n",
        "print(\"Pronic numbers in range 1 to 100\")\n",
        "pronicno = []\n",
        "for i in range(1,101):\n",
        "    if PronicNo(i):\n",
        "        pronicno.append(i)\n",
        "print(pronicno)"
      ],
      "metadata": {
        "colab": {
          "base_uri": "https://localhost:8080/"
        },
        "id": "Nt8yJkSLyvuI",
        "outputId": "86e8b881-4861-4d0c-9372-aa09b3926b4d"
      },
      "execution_count": 20,
      "outputs": [
        {
          "output_type": "stream",
          "name": "stdout",
          "text": [
            "Pronic numbers in range 1 to 100\n",
            "[2, 6, 12, 20, 30, 42, 56, 72, 90]\n"
          ]
        }
      ]
    }
  ]
}