{
  "nbformat": 4,
  "nbformat_minor": 0,
  "metadata": {
    "colab": {
      "provenance": []
    },
    "kernelspec": {
      "name": "python3",
      "display_name": "Python 3"
    },
    "language_info": {
      "name": "python"
    }
  },
  "cells": [
    {
      "cell_type": "markdown",
      "source": [
        "Create a function that takes a list of non-negative integers and strings and return a new list\n",
        "without the strings.\n",
        "Examples"
      ],
      "metadata": {
        "id": "jZq6rO1HFh3x"
      }
    },
    {
      "cell_type": "code",
      "execution_count": 1,
      "metadata": {
        "colab": {
          "base_uri": "https://localhost:8080/"
        },
        "id": "sm5ER2RbFNtN",
        "outputId": "7f03935b-8c41-4162-99ab-ba7b001482a6"
      },
      "outputs": [
        {
          "output_type": "stream",
          "name": "stdout",
          "text": [
            "[1, 2]\n"
          ]
        }
      ],
      "source": [
        "def filter_list(l):\n",
        "    new_list = []\n",
        "    for x in l:\n",
        "        if type(x) == int:\n",
        "            new_list.append(x)\n",
        "    return new_list\n",
        "\n",
        "l=[1,2,'a','b']\n",
        "print(filter_list(l))"
      ]
    },
    {
      "cell_type": "markdown",
      "source": [
        "Question 2\n",
        "The \"Reverser\" takes a string as input and returns that string in reverse order, with the\n",
        "opposite case."
      ],
      "metadata": {
        "id": "Zpe9W9JBGZPT"
      }
    },
    {
      "cell_type": "code",
      "source": [
        "def reverse(str):\n",
        "    str = str[::-1]\n",
        "    return str.swapcase()\n",
        "    \n",
        "strg=input(\"Enter the string:\")\n",
        "print(reverse(strg))"
      ],
      "metadata": {
        "colab": {
          "base_uri": "https://localhost:8080/"
        },
        "id": "OW_L5Lt0GelA",
        "outputId": "8740c1da-0a86-4363-a8ca-ec147b3464d6"
      },
      "execution_count": 2,
      "outputs": [
        {
          "output_type": "stream",
          "name": "stdout",
          "text": [
            "Enter the string:Reverser\n",
            "RESREVEr\n"
          ]
        }
      ]
    },
    {
      "cell_type": "markdown",
      "source": [
        "Question 3\n",
        "You can assign variables from lists like this:\n",
        "lst = [1, 2, 3, 4, 5, 6]\n",
        "first = lst[0]\n",
        "middle = lst[1:-1]\n",
        "last = lst[-1]\n",
        "print(first) ➞ outputs 1\n",
        "print(middle) ➞ outputs [2, 3, 4, 5]\n",
        "print(last) ➞ outputs 6\n",
        "With Python 3, you can assign variables from lists in a much more succinct way. Create\n",
        "variables first, middle and last from the given list using destructuring assignment\n",
        "(check the Resources tab for some examples), where:\n",
        "first ➞ 1\n",
        "middle ➞ [2, 3, 4, 5]\n",
        "last ➞ 6\n",
        "\n",
        "Your task is to unpack the list writeyourcodehere into three variables, being first,\n",
        "middle, and last, with middle being everything in between the first and last element. Then\n",
        "print all three variables."
      ],
      "metadata": {
        "id": "4pJqaiwXHR9n"
      }
    },
    {
      "cell_type": "code",
      "source": [
        "lst = [1, 2, 3, 4, 5, 6]\n",
        "first ,*middle,last = lst"
      ],
      "metadata": {
        "id": "OTiJfdO1HRH-"
      },
      "execution_count": 3,
      "outputs": []
    },
    {
      "cell_type": "code",
      "source": [
        "first"
      ],
      "metadata": {
        "colab": {
          "base_uri": "https://localhost:8080/"
        },
        "id": "LiPrz-dwH248",
        "outputId": "49ae2560-956f-401e-bce2-a0a0d114d74f"
      },
      "execution_count": 4,
      "outputs": [
        {
          "output_type": "execute_result",
          "data": {
            "text/plain": [
              "1"
            ]
          },
          "metadata": {},
          "execution_count": 4
        }
      ]
    },
    {
      "cell_type": "code",
      "source": [
        "middle"
      ],
      "metadata": {
        "colab": {
          "base_uri": "https://localhost:8080/"
        },
        "id": "uS4glxKCH6sH",
        "outputId": "50f96fd9-b0d8-4c12-bebf-6400faae0768"
      },
      "execution_count": 5,
      "outputs": [
        {
          "output_type": "execute_result",
          "data": {
            "text/plain": [
              "[2, 3, 4, 5]"
            ]
          },
          "metadata": {},
          "execution_count": 5
        }
      ]
    },
    {
      "cell_type": "code",
      "source": [
        "last"
      ],
      "metadata": {
        "colab": {
          "base_uri": "https://localhost:8080/"
        },
        "id": "rliWWBCaIAL7",
        "outputId": "c6ca7dea-fc62-4390-ff6f-b46cd921b05d"
      },
      "execution_count": 6,
      "outputs": [
        {
          "output_type": "execute_result",
          "data": {
            "text/plain": [
              "6"
            ]
          },
          "metadata": {},
          "execution_count": 6
        }
      ]
    },
    {
      "cell_type": "markdown",
      "source": [
        "Question 4\n",
        "Write a function that calculates the factorial of a number recursively."
      ],
      "metadata": {
        "id": "9h2BCzhhIb3V"
      }
    },
    {
      "cell_type": "code",
      "source": [
        "def factorial(n):     \n",
        "    if n == 0:\n",
        "        return 1    \n",
        "    return n * factorial(n-1)\n",
        "\n",
        "num = int(input('enter a number :'))\n",
        "print(\"Factorial of\", num, \"is\", factorial(num))"
      ],
      "metadata": {
        "colab": {
          "base_uri": "https://localhost:8080/"
        },
        "id": "asIsQVEVIUJs",
        "outputId": "9a782cf8-f27e-42fc-d430-0660eb71de8e"
      },
      "execution_count": 7,
      "outputs": [
        {
          "output_type": "stream",
          "name": "stdout",
          "text": [
            "enter a number :5\n",
            "Factorial of 5 is 120\n"
          ]
        }
      ]
    },
    {
      "cell_type": "markdown",
      "source": [
        "Question 5\n",
        "Write a function that moves all elements of one type to the end of the list."
      ],
      "metadata": {
        "id": "w0FdaCnAI4Uh"
      }
    },
    {
      "cell_type": "code",
      "source": [
        "def move_to_end(array, toMove):\n",
        "     \n",
        "    i = 0\n",
        "    j = len(array) - 1\n",
        "  \n",
        "   \n",
        "    while (i < j):\n",
        "  \n",
        "        while (i < j and array[j] == toMove):\n",
        "  \n",
        "           \n",
        "            j-=1\n",
        "  \n",
        "        if (array[i] == toMove):\n",
        "  \n",
        "           \n",
        "            array[i], array[j] = array[j] , array[i]\n",
        "  \n",
        "       \n",
        "        i += 1\n",
        "  \n",
        "   \n",
        "    return array\n",
        "\n",
        "  \n",
        "\n"
      ],
      "metadata": {
        "id": "-9-PC8PjJSNu"
      },
      "execution_count": 8,
      "outputs": []
    },
    {
      "cell_type": "code",
      "source": [
        "\n",
        "arr = [7, 8, 9, 1, 2, 3, 4]\n",
        "a = 9\n",
        "ans = move_to_end(arr, a)\n",
        "for i in range(len(arr)):\n",
        "    print(ans[i] ,end= \" \")"
      ],
      "metadata": {
        "colab": {
          "base_uri": "https://localhost:8080/"
        },
        "id": "wapI12VVKI37",
        "outputId": "49d733cf-2f43-4aaf-cf2b-42fc9752afd7"
      },
      "execution_count": 9,
      "outputs": [
        {
          "output_type": "stream",
          "name": "stdout",
          "text": [
            "7 8 4 1 2 3 9 "
          ]
        }
      ]
    }
  ]
}